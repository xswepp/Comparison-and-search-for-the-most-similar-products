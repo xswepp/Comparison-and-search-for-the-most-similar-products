{
 "cells": [
  {
   "cell_type": "markdown",
   "metadata": {},
   "source": [
    "# Решение задачи сопоставления и поиска наиболее похожих товаров\n",
    "\n",
    "**Дано:** два множества объектов: A и B. Каждый объект в множестве описывается безымянными признаками.\n",
    "\n",
    "**Цель:** для каждого объекта из множества A найти один или несколько объектов из B, которые близки к нему по заданной метрике.\n",
    "\n",
    "**Задача:**\n",
    "- разработать алгоритм, который для всех товаров измножества A предложит несколько вариантов наиболее похожих товаров из множества B;\n",
    "- оценить качество алгоритма по метрике accuracy@5;\n",
    "- деплой: разработать REST API сервис, который по предложенным данным будем предлагать несколько похожих товаров.\n"
   ]
  },
  {
   "cell_type": "markdown",
   "metadata": {},
   "source": [
    "## Загрузка и ознакомление с данными"
   ]
  },
  {
   "cell_type": "code",
   "execution_count": 1,
   "metadata": {},
   "outputs": [
    {
     "name": "stderr",
     "output_type": "stream",
     "text": [
      "d:\\Stadies IT\\Project\\3. Masterskay\\Masterskay\\masterskay_2_venv\\lib\\site-packages\\tqdm\\auto.py:21: TqdmWarning: IProgress not found. Please update jupyter and ipywidgets. See https://ipywidgets.readthedocs.io/en/stable/user_install.html\n",
      "  from .autonotebook import tqdm as notebook_tqdm\n"
     ]
    }
   ],
   "source": [
    "# Импорт библиотек\n",
    "import pandas as pd\n",
    "import numpy as np\n",
    "import seaborn as sns\n",
    "import matplotlib.pyplot as plt\n",
    "import plotly.graph_objects as go\n",
    "from scipy import stats as st\n",
    "import phik\n",
    "import faiss\n",
    "import hnswlib\n",
    "import lightgbm as lgb\n",
    "import xgboost as xgb\n",
    "import joblib\n",
    "from imblearn.pipeline import make_pipeline as make_imblearn_pipeline\n",
    "import optuna\n",
    "import time\n",
    "\n",
    "# Импорт модулей\n",
    "from sklearn.preprocessing import StandardScaler, MinMaxScaler\n",
    "from sklearn.metrics import recall_score, make_scorer, mean_absolute_error\n",
    "from sklearn.linear_model import LinearRegression, Lasso, ElasticNet, Ridge, LogisticRegression\n",
    "from sklearn.tree import DecisionTreeClassifier, DecisionTreeRegressor\n",
    "from sklearn.ensemble import GradientBoostingRegressor, RandomForestClassifier\n",
    "from catboost import CatBoostClassifier, CatBoostRegressor\n",
    "from sklearn.neighbors import KNeighborsClassifier, KNeighborsRegressor\n",
    "from sklearn.model_selection import cross_val_score\n",
    "from optuna.samplers import TPESampler\n",
    "from optuna.pruners import SuccessiveHalvingPruner\n",
    "from annoy import AnnoyIndex\n",
    "\n",
    "RANDOM_STATE = 73"
   ]
  },
  {
   "cell_type": "code",
   "execution_count": 2,
   "metadata": {},
   "outputs": [
    {
     "name": "stdout",
     "output_type": "stream",
     "text": [
      "Вывод первых пяти строк для таблицы 'base.csv'\n"
     ]
    },
    {
     "data": {
      "text/html": [
       "<div>\n",
       "<style scoped>\n",
       "    .dataframe tbody tr th:only-of-type {\n",
       "        vertical-align: middle;\n",
       "    }\n",
       "\n",
       "    .dataframe tbody tr th {\n",
       "        vertical-align: top;\n",
       "    }\n",
       "\n",
       "    .dataframe thead th {\n",
       "        text-align: right;\n",
       "    }\n",
       "</style>\n",
       "<table border=\"1\" class=\"dataframe\">\n",
       "  <thead>\n",
       "    <tr style=\"text-align: right;\">\n",
       "      <th></th>\n",
       "      <th>0</th>\n",
       "      <th>1</th>\n",
       "      <th>2</th>\n",
       "      <th>3</th>\n",
       "      <th>4</th>\n",
       "      <th>5</th>\n",
       "      <th>6</th>\n",
       "      <th>7</th>\n",
       "      <th>8</th>\n",
       "      <th>9</th>\n",
       "      <th>...</th>\n",
       "      <th>62</th>\n",
       "      <th>63</th>\n",
       "      <th>64</th>\n",
       "      <th>65</th>\n",
       "      <th>66</th>\n",
       "      <th>67</th>\n",
       "      <th>68</th>\n",
       "      <th>69</th>\n",
       "      <th>70</th>\n",
       "      <th>71</th>\n",
       "    </tr>\n",
       "    <tr>\n",
       "      <th>Id</th>\n",
       "      <th></th>\n",
       "      <th></th>\n",
       "      <th></th>\n",
       "      <th></th>\n",
       "      <th></th>\n",
       "      <th></th>\n",
       "      <th></th>\n",
       "      <th></th>\n",
       "      <th></th>\n",
       "      <th></th>\n",
       "      <th></th>\n",
       "      <th></th>\n",
       "      <th></th>\n",
       "      <th></th>\n",
       "      <th></th>\n",
       "      <th></th>\n",
       "      <th></th>\n",
       "      <th></th>\n",
       "      <th></th>\n",
       "      <th></th>\n",
       "      <th></th>\n",
       "    </tr>\n",
       "  </thead>\n",
       "  <tbody>\n",
       "    <tr>\n",
       "      <th>0-base</th>\n",
       "      <td>-115.083890</td>\n",
       "      <td>11.152912</td>\n",
       "      <td>-64.426760</td>\n",
       "      <td>-118.88089</td>\n",
       "      <td>216.482440</td>\n",
       "      <td>-104.698060</td>\n",
       "      <td>-469.070588</td>\n",
       "      <td>44.348083</td>\n",
       "      <td>120.915344</td>\n",
       "      <td>181.449700</td>\n",
       "      <td>...</td>\n",
       "      <td>-42.808693</td>\n",
       "      <td>38.800827</td>\n",
       "      <td>-151.76218</td>\n",
       "      <td>-74.389090</td>\n",
       "      <td>63.66634</td>\n",
       "      <td>-4.703861</td>\n",
       "      <td>92.933610</td>\n",
       "      <td>115.269190</td>\n",
       "      <td>-112.756640</td>\n",
       "      <td>-60.830353</td>\n",
       "    </tr>\n",
       "    <tr>\n",
       "      <th>1-base</th>\n",
       "      <td>-34.562202</td>\n",
       "      <td>13.332763</td>\n",
       "      <td>-69.787610</td>\n",
       "      <td>-166.53348</td>\n",
       "      <td>57.680607</td>\n",
       "      <td>-86.098370</td>\n",
       "      <td>-85.076666</td>\n",
       "      <td>-35.637436</td>\n",
       "      <td>119.718636</td>\n",
       "      <td>195.234190</td>\n",
       "      <td>...</td>\n",
       "      <td>-117.767525</td>\n",
       "      <td>41.100000</td>\n",
       "      <td>-157.82940</td>\n",
       "      <td>-94.446806</td>\n",
       "      <td>68.20211</td>\n",
       "      <td>24.346846</td>\n",
       "      <td>179.937930</td>\n",
       "      <td>116.834000</td>\n",
       "      <td>-84.888941</td>\n",
       "      <td>-59.524610</td>\n",
       "    </tr>\n",
       "    <tr>\n",
       "      <th>2-base</th>\n",
       "      <td>-54.233746</td>\n",
       "      <td>6.379371</td>\n",
       "      <td>-29.210136</td>\n",
       "      <td>-133.41383</td>\n",
       "      <td>150.895830</td>\n",
       "      <td>-99.435326</td>\n",
       "      <td>52.554795</td>\n",
       "      <td>62.381706</td>\n",
       "      <td>128.951450</td>\n",
       "      <td>164.381470</td>\n",
       "      <td>...</td>\n",
       "      <td>-76.397800</td>\n",
       "      <td>46.011803</td>\n",
       "      <td>-207.14442</td>\n",
       "      <td>127.325570</td>\n",
       "      <td>65.56618</td>\n",
       "      <td>66.325680</td>\n",
       "      <td>81.073490</td>\n",
       "      <td>116.594154</td>\n",
       "      <td>-1074.464888</td>\n",
       "      <td>-32.527206</td>\n",
       "    </tr>\n",
       "    <tr>\n",
       "      <th>3-base</th>\n",
       "      <td>-87.520130</td>\n",
       "      <td>4.037884</td>\n",
       "      <td>-87.803030</td>\n",
       "      <td>-185.06763</td>\n",
       "      <td>76.369540</td>\n",
       "      <td>-58.985165</td>\n",
       "      <td>-383.182845</td>\n",
       "      <td>-33.611237</td>\n",
       "      <td>122.031910</td>\n",
       "      <td>136.233580</td>\n",
       "      <td>...</td>\n",
       "      <td>-70.647940</td>\n",
       "      <td>-6.358921</td>\n",
       "      <td>-147.20105</td>\n",
       "      <td>-37.692750</td>\n",
       "      <td>66.20289</td>\n",
       "      <td>-20.566910</td>\n",
       "      <td>137.206940</td>\n",
       "      <td>117.474100</td>\n",
       "      <td>-1074.464888</td>\n",
       "      <td>-72.915490</td>\n",
       "    </tr>\n",
       "    <tr>\n",
       "      <th>4-base</th>\n",
       "      <td>-72.743850</td>\n",
       "      <td>6.522049</td>\n",
       "      <td>43.671265</td>\n",
       "      <td>-140.60803</td>\n",
       "      <td>5.820023</td>\n",
       "      <td>-112.074080</td>\n",
       "      <td>-397.711282</td>\n",
       "      <td>45.182500</td>\n",
       "      <td>122.167180</td>\n",
       "      <td>112.119064</td>\n",
       "      <td>...</td>\n",
       "      <td>-57.199104</td>\n",
       "      <td>56.642403</td>\n",
       "      <td>-159.35184</td>\n",
       "      <td>85.944724</td>\n",
       "      <td>66.76632</td>\n",
       "      <td>-2.505783</td>\n",
       "      <td>65.315285</td>\n",
       "      <td>135.051590</td>\n",
       "      <td>-1074.464888</td>\n",
       "      <td>0.319401</td>\n",
       "    </tr>\n",
       "  </tbody>\n",
       "</table>\n",
       "<p>5 rows × 72 columns</p>\n",
       "</div>"
      ],
      "text/plain": [
       "                 0          1          2          3           4           5  \\\n",
       "Id                                                                            \n",
       "0-base -115.083890  11.152912 -64.426760 -118.88089  216.482440 -104.698060   \n",
       "1-base  -34.562202  13.332763 -69.787610 -166.53348   57.680607  -86.098370   \n",
       "2-base  -54.233746   6.379371 -29.210136 -133.41383  150.895830  -99.435326   \n",
       "3-base  -87.520130   4.037884 -87.803030 -185.06763   76.369540  -58.985165   \n",
       "4-base  -72.743850   6.522049  43.671265 -140.60803    5.820023 -112.074080   \n",
       "\n",
       "                 6          7           8           9  ...          62  \\\n",
       "Id                                                     ...               \n",
       "0-base -469.070588  44.348083  120.915344  181.449700  ...  -42.808693   \n",
       "1-base  -85.076666 -35.637436  119.718636  195.234190  ... -117.767525   \n",
       "2-base   52.554795  62.381706  128.951450  164.381470  ...  -76.397800   \n",
       "3-base -383.182845 -33.611237  122.031910  136.233580  ...  -70.647940   \n",
       "4-base -397.711282  45.182500  122.167180  112.119064  ...  -57.199104   \n",
       "\n",
       "               63         64          65        66         67          68  \\\n",
       "Id                                                                          \n",
       "0-base  38.800827 -151.76218  -74.389090  63.66634  -4.703861   92.933610   \n",
       "1-base  41.100000 -157.82940  -94.446806  68.20211  24.346846  179.937930   \n",
       "2-base  46.011803 -207.14442  127.325570  65.56618  66.325680   81.073490   \n",
       "3-base  -6.358921 -147.20105  -37.692750  66.20289 -20.566910  137.206940   \n",
       "4-base  56.642403 -159.35184   85.944724  66.76632  -2.505783   65.315285   \n",
       "\n",
       "                69           70         71  \n",
       "Id                                          \n",
       "0-base  115.269190  -112.756640 -60.830353  \n",
       "1-base  116.834000   -84.888941 -59.524610  \n",
       "2-base  116.594154 -1074.464888 -32.527206  \n",
       "3-base  117.474100 -1074.464888 -72.915490  \n",
       "4-base  135.051590 -1074.464888   0.319401  \n",
       "\n",
       "[5 rows x 72 columns]"
      ]
     },
     "metadata": {},
     "output_type": "display_data"
    },
    {
     "name": "stdout",
     "output_type": "stream",
     "text": [
      "Вывод первых пяти строк для таблицы 'train.csv'\n"
     ]
    },
    {
     "data": {
      "text/html": [
       "<div>\n",
       "<style scoped>\n",
       "    .dataframe tbody tr th:only-of-type {\n",
       "        vertical-align: middle;\n",
       "    }\n",
       "\n",
       "    .dataframe tbody tr th {\n",
       "        vertical-align: top;\n",
       "    }\n",
       "\n",
       "    .dataframe thead th {\n",
       "        text-align: right;\n",
       "    }\n",
       "</style>\n",
       "<table border=\"1\" class=\"dataframe\">\n",
       "  <thead>\n",
       "    <tr style=\"text-align: right;\">\n",
       "      <th></th>\n",
       "      <th>0</th>\n",
       "      <th>1</th>\n",
       "      <th>2</th>\n",
       "      <th>3</th>\n",
       "      <th>4</th>\n",
       "      <th>5</th>\n",
       "      <th>6</th>\n",
       "      <th>7</th>\n",
       "      <th>8</th>\n",
       "      <th>9</th>\n",
       "      <th>...</th>\n",
       "      <th>63</th>\n",
       "      <th>64</th>\n",
       "      <th>65</th>\n",
       "      <th>66</th>\n",
       "      <th>67</th>\n",
       "      <th>68</th>\n",
       "      <th>69</th>\n",
       "      <th>70</th>\n",
       "      <th>71</th>\n",
       "      <th>Target</th>\n",
       "    </tr>\n",
       "    <tr>\n",
       "      <th>Id</th>\n",
       "      <th></th>\n",
       "      <th></th>\n",
       "      <th></th>\n",
       "      <th></th>\n",
       "      <th></th>\n",
       "      <th></th>\n",
       "      <th></th>\n",
       "      <th></th>\n",
       "      <th></th>\n",
       "      <th></th>\n",
       "      <th></th>\n",
       "      <th></th>\n",
       "      <th></th>\n",
       "      <th></th>\n",
       "      <th></th>\n",
       "      <th></th>\n",
       "      <th></th>\n",
       "      <th></th>\n",
       "      <th></th>\n",
       "      <th></th>\n",
       "      <th></th>\n",
       "    </tr>\n",
       "  </thead>\n",
       "  <tbody>\n",
       "    <tr>\n",
       "      <th>0-query</th>\n",
       "      <td>-53.882748</td>\n",
       "      <td>17.971436</td>\n",
       "      <td>-42.117104</td>\n",
       "      <td>-183.93668</td>\n",
       "      <td>187.517490</td>\n",
       "      <td>-87.144930</td>\n",
       "      <td>-347.360606</td>\n",
       "      <td>38.307602</td>\n",
       "      <td>109.085560</td>\n",
       "      <td>30.413513</td>\n",
       "      <td>...</td>\n",
       "      <td>70.107360</td>\n",
       "      <td>-155.80257</td>\n",
       "      <td>-101.965943</td>\n",
       "      <td>65.903790</td>\n",
       "      <td>34.457500</td>\n",
       "      <td>62.642094</td>\n",
       "      <td>134.763600</td>\n",
       "      <td>-415.750254</td>\n",
       "      <td>-25.958572</td>\n",
       "      <td>675816-base</td>\n",
       "    </tr>\n",
       "    <tr>\n",
       "      <th>1-query</th>\n",
       "      <td>-87.776370</td>\n",
       "      <td>6.806268</td>\n",
       "      <td>-32.054546</td>\n",
       "      <td>-177.26039</td>\n",
       "      <td>120.803330</td>\n",
       "      <td>-83.810590</td>\n",
       "      <td>-94.572749</td>\n",
       "      <td>-78.433090</td>\n",
       "      <td>124.915900</td>\n",
       "      <td>140.331070</td>\n",
       "      <td>...</td>\n",
       "      <td>4.669178</td>\n",
       "      <td>-151.69771</td>\n",
       "      <td>-1.638704</td>\n",
       "      <td>68.170876</td>\n",
       "      <td>25.096191</td>\n",
       "      <td>89.974976</td>\n",
       "      <td>130.589630</td>\n",
       "      <td>-1035.092211</td>\n",
       "      <td>-51.276833</td>\n",
       "      <td>366656-base</td>\n",
       "    </tr>\n",
       "    <tr>\n",
       "      <th>2-query</th>\n",
       "      <td>-49.979565</td>\n",
       "      <td>3.841486</td>\n",
       "      <td>-116.118590</td>\n",
       "      <td>-180.40198</td>\n",
       "      <td>190.128430</td>\n",
       "      <td>-50.837620</td>\n",
       "      <td>26.943937</td>\n",
       "      <td>-30.447489</td>\n",
       "      <td>125.771164</td>\n",
       "      <td>211.607820</td>\n",
       "      <td>...</td>\n",
       "      <td>78.039764</td>\n",
       "      <td>-169.14620</td>\n",
       "      <td>82.144186</td>\n",
       "      <td>66.008220</td>\n",
       "      <td>18.400496</td>\n",
       "      <td>212.409730</td>\n",
       "      <td>121.931470</td>\n",
       "      <td>-1074.464888</td>\n",
       "      <td>-22.547178</td>\n",
       "      <td>1447819-base</td>\n",
       "    </tr>\n",
       "    <tr>\n",
       "      <th>3-query</th>\n",
       "      <td>-47.810562</td>\n",
       "      <td>9.086598</td>\n",
       "      <td>-115.401695</td>\n",
       "      <td>-121.01136</td>\n",
       "      <td>94.652840</td>\n",
       "      <td>-109.255410</td>\n",
       "      <td>-775.150134</td>\n",
       "      <td>79.186520</td>\n",
       "      <td>124.003100</td>\n",
       "      <td>242.650650</td>\n",
       "      <td>...</td>\n",
       "      <td>44.515266</td>\n",
       "      <td>-145.41675</td>\n",
       "      <td>93.990981</td>\n",
       "      <td>64.131350</td>\n",
       "      <td>106.061920</td>\n",
       "      <td>83.178760</td>\n",
       "      <td>118.277725</td>\n",
       "      <td>-1074.464888</td>\n",
       "      <td>-19.902788</td>\n",
       "      <td>1472602-base</td>\n",
       "    </tr>\n",
       "    <tr>\n",
       "      <th>4-query</th>\n",
       "      <td>-79.632126</td>\n",
       "      <td>14.442886</td>\n",
       "      <td>-58.903397</td>\n",
       "      <td>-147.05254</td>\n",
       "      <td>57.127068</td>\n",
       "      <td>-16.239529</td>\n",
       "      <td>-321.317964</td>\n",
       "      <td>45.984676</td>\n",
       "      <td>125.941284</td>\n",
       "      <td>103.392670</td>\n",
       "      <td>...</td>\n",
       "      <td>45.028910</td>\n",
       "      <td>-196.09207</td>\n",
       "      <td>-117.626337</td>\n",
       "      <td>66.926220</td>\n",
       "      <td>42.456170</td>\n",
       "      <td>77.621765</td>\n",
       "      <td>92.479930</td>\n",
       "      <td>-1074.464888</td>\n",
       "      <td>-21.149351</td>\n",
       "      <td>717819-base</td>\n",
       "    </tr>\n",
       "  </tbody>\n",
       "</table>\n",
       "<p>5 rows × 73 columns</p>\n",
       "</div>"
      ],
      "text/plain": [
       "                 0          1           2          3           4           5  \\\n",
       "Id                                                                             \n",
       "0-query -53.882748  17.971436  -42.117104 -183.93668  187.517490  -87.144930   \n",
       "1-query -87.776370   6.806268  -32.054546 -177.26039  120.803330  -83.810590   \n",
       "2-query -49.979565   3.841486 -116.118590 -180.40198  190.128430  -50.837620   \n",
       "3-query -47.810562   9.086598 -115.401695 -121.01136   94.652840 -109.255410   \n",
       "4-query -79.632126  14.442886  -58.903397 -147.05254   57.127068  -16.239529   \n",
       "\n",
       "                  6          7           8           9  ...         63  \\\n",
       "Id                                                      ...              \n",
       "0-query -347.360606  38.307602  109.085560   30.413513  ...  70.107360   \n",
       "1-query  -94.572749 -78.433090  124.915900  140.331070  ...   4.669178   \n",
       "2-query   26.943937 -30.447489  125.771164  211.607820  ...  78.039764   \n",
       "3-query -775.150134  79.186520  124.003100  242.650650  ...  44.515266   \n",
       "4-query -321.317964  45.984676  125.941284  103.392670  ...  45.028910   \n",
       "\n",
       "                64          65         66          67          68          69  \\\n",
       "Id                                                                              \n",
       "0-query -155.80257 -101.965943  65.903790   34.457500   62.642094  134.763600   \n",
       "1-query -151.69771   -1.638704  68.170876   25.096191   89.974976  130.589630   \n",
       "2-query -169.14620   82.144186  66.008220   18.400496  212.409730  121.931470   \n",
       "3-query -145.41675   93.990981  64.131350  106.061920   83.178760  118.277725   \n",
       "4-query -196.09207 -117.626337  66.926220   42.456170   77.621765   92.479930   \n",
       "\n",
       "                  70         71        Target  \n",
       "Id                                             \n",
       "0-query  -415.750254 -25.958572   675816-base  \n",
       "1-query -1035.092211 -51.276833   366656-base  \n",
       "2-query -1074.464888 -22.547178  1447819-base  \n",
       "3-query -1074.464888 -19.902788  1472602-base  \n",
       "4-query -1074.464888 -21.149351   717819-base  \n",
       "\n",
       "[5 rows x 73 columns]"
      ]
     },
     "metadata": {},
     "output_type": "display_data"
    },
    {
     "name": "stdout",
     "output_type": "stream",
     "text": [
      "Вывод первых пяти строк для таблицы 'validation.csv'\n"
     ]
    },
    {
     "data": {
      "text/html": [
       "<div>\n",
       "<style scoped>\n",
       "    .dataframe tbody tr th:only-of-type {\n",
       "        vertical-align: middle;\n",
       "    }\n",
       "\n",
       "    .dataframe tbody tr th {\n",
       "        vertical-align: top;\n",
       "    }\n",
       "\n",
       "    .dataframe thead th {\n",
       "        text-align: right;\n",
       "    }\n",
       "</style>\n",
       "<table border=\"1\" class=\"dataframe\">\n",
       "  <thead>\n",
       "    <tr style=\"text-align: right;\">\n",
       "      <th></th>\n",
       "      <th>0</th>\n",
       "      <th>1</th>\n",
       "      <th>2</th>\n",
       "      <th>3</th>\n",
       "      <th>4</th>\n",
       "      <th>5</th>\n",
       "      <th>6</th>\n",
       "      <th>7</th>\n",
       "      <th>8</th>\n",
       "      <th>9</th>\n",
       "      <th>...</th>\n",
       "      <th>62</th>\n",
       "      <th>63</th>\n",
       "      <th>64</th>\n",
       "      <th>65</th>\n",
       "      <th>66</th>\n",
       "      <th>67</th>\n",
       "      <th>68</th>\n",
       "      <th>69</th>\n",
       "      <th>70</th>\n",
       "      <th>71</th>\n",
       "    </tr>\n",
       "    <tr>\n",
       "      <th>Id</th>\n",
       "      <th></th>\n",
       "      <th></th>\n",
       "      <th></th>\n",
       "      <th></th>\n",
       "      <th></th>\n",
       "      <th></th>\n",
       "      <th></th>\n",
       "      <th></th>\n",
       "      <th></th>\n",
       "      <th></th>\n",
       "      <th></th>\n",
       "      <th></th>\n",
       "      <th></th>\n",
       "      <th></th>\n",
       "      <th></th>\n",
       "      <th></th>\n",
       "      <th></th>\n",
       "      <th></th>\n",
       "      <th></th>\n",
       "      <th></th>\n",
       "      <th></th>\n",
       "    </tr>\n",
       "  </thead>\n",
       "  <tbody>\n",
       "    <tr>\n",
       "      <th>100000-query</th>\n",
       "      <td>-57.372734</td>\n",
       "      <td>3.597752</td>\n",
       "      <td>-13.213642</td>\n",
       "      <td>-125.92679</td>\n",
       "      <td>110.74594</td>\n",
       "      <td>-81.279594</td>\n",
       "      <td>-461.003172</td>\n",
       "      <td>139.815720</td>\n",
       "      <td>112.880980</td>\n",
       "      <td>75.215750</td>\n",
       "      <td>...</td>\n",
       "      <td>-75.51302</td>\n",
       "      <td>52.830902</td>\n",
       "      <td>-143.43945</td>\n",
       "      <td>59.051935</td>\n",
       "      <td>69.28224</td>\n",
       "      <td>61.927513</td>\n",
       "      <td>111.59253</td>\n",
       "      <td>115.140656</td>\n",
       "      <td>-1099.130485</td>\n",
       "      <td>-117.079360</td>\n",
       "    </tr>\n",
       "    <tr>\n",
       "      <th>100001-query</th>\n",
       "      <td>-53.758705</td>\n",
       "      <td>12.790300</td>\n",
       "      <td>-43.268543</td>\n",
       "      <td>-134.41762</td>\n",
       "      <td>114.44991</td>\n",
       "      <td>-90.520130</td>\n",
       "      <td>-759.626065</td>\n",
       "      <td>63.995087</td>\n",
       "      <td>127.117905</td>\n",
       "      <td>53.128998</td>\n",
       "      <td>...</td>\n",
       "      <td>-79.44183</td>\n",
       "      <td>29.185436</td>\n",
       "      <td>-168.60590</td>\n",
       "      <td>-82.872443</td>\n",
       "      <td>70.76560</td>\n",
       "      <td>-65.975950</td>\n",
       "      <td>97.07716</td>\n",
       "      <td>123.391640</td>\n",
       "      <td>-744.442332</td>\n",
       "      <td>-25.009320</td>\n",
       "    </tr>\n",
       "    <tr>\n",
       "      <th>100002-query</th>\n",
       "      <td>-64.175095</td>\n",
       "      <td>-3.980927</td>\n",
       "      <td>-7.679249</td>\n",
       "      <td>-170.16093</td>\n",
       "      <td>96.44616</td>\n",
       "      <td>-62.377740</td>\n",
       "      <td>-759.626065</td>\n",
       "      <td>87.477554</td>\n",
       "      <td>131.270110</td>\n",
       "      <td>168.920320</td>\n",
       "      <td>...</td>\n",
       "      <td>-134.79541</td>\n",
       "      <td>37.368730</td>\n",
       "      <td>-159.66231</td>\n",
       "      <td>-119.232725</td>\n",
       "      <td>67.71044</td>\n",
       "      <td>86.002060</td>\n",
       "      <td>137.63641</td>\n",
       "      <td>141.081630</td>\n",
       "      <td>-294.052271</td>\n",
       "      <td>-70.969604</td>\n",
       "    </tr>\n",
       "    <tr>\n",
       "      <th>100003-query</th>\n",
       "      <td>-99.286860</td>\n",
       "      <td>16.123936</td>\n",
       "      <td>9.837166</td>\n",
       "      <td>-148.06044</td>\n",
       "      <td>83.69708</td>\n",
       "      <td>-133.729720</td>\n",
       "      <td>58.576403</td>\n",
       "      <td>-19.046660</td>\n",
       "      <td>115.042404</td>\n",
       "      <td>75.206730</td>\n",
       "      <td>...</td>\n",
       "      <td>-77.23611</td>\n",
       "      <td>44.100494</td>\n",
       "      <td>-132.53012</td>\n",
       "      <td>-106.318982</td>\n",
       "      <td>70.88396</td>\n",
       "      <td>23.577892</td>\n",
       "      <td>133.18396</td>\n",
       "      <td>143.252940</td>\n",
       "      <td>-799.363667</td>\n",
       "      <td>-89.392670</td>\n",
       "    </tr>\n",
       "    <tr>\n",
       "      <th>100004-query</th>\n",
       "      <td>-79.532920</td>\n",
       "      <td>-0.364173</td>\n",
       "      <td>-16.027431</td>\n",
       "      <td>-170.88495</td>\n",
       "      <td>165.45392</td>\n",
       "      <td>-28.291668</td>\n",
       "      <td>33.931936</td>\n",
       "      <td>34.411217</td>\n",
       "      <td>128.903980</td>\n",
       "      <td>102.086914</td>\n",
       "      <td>...</td>\n",
       "      <td>-123.77025</td>\n",
       "      <td>45.635944</td>\n",
       "      <td>-134.25893</td>\n",
       "      <td>13.735359</td>\n",
       "      <td>70.61763</td>\n",
       "      <td>15.332115</td>\n",
       "      <td>154.56812</td>\n",
       "      <td>101.700640</td>\n",
       "      <td>-1171.892332</td>\n",
       "      <td>-125.307890</td>\n",
       "    </tr>\n",
       "  </tbody>\n",
       "</table>\n",
       "<p>5 rows × 72 columns</p>\n",
       "</div>"
      ],
      "text/plain": [
       "                      0          1          2          3          4  \\\n",
       "Id                                                                    \n",
       "100000-query -57.372734   3.597752 -13.213642 -125.92679  110.74594   \n",
       "100001-query -53.758705  12.790300 -43.268543 -134.41762  114.44991   \n",
       "100002-query -64.175095  -3.980927  -7.679249 -170.16093   96.44616   \n",
       "100003-query -99.286860  16.123936   9.837166 -148.06044   83.69708   \n",
       "100004-query -79.532920  -0.364173 -16.027431 -170.88495  165.45392   \n",
       "\n",
       "                       5           6           7           8           9  ...  \\\n",
       "Id                                                                        ...   \n",
       "100000-query  -81.279594 -461.003172  139.815720  112.880980   75.215750  ...   \n",
       "100001-query  -90.520130 -759.626065   63.995087  127.117905   53.128998  ...   \n",
       "100002-query  -62.377740 -759.626065   87.477554  131.270110  168.920320  ...   \n",
       "100003-query -133.729720   58.576403  -19.046660  115.042404   75.206730  ...   \n",
       "100004-query  -28.291668   33.931936   34.411217  128.903980  102.086914  ...   \n",
       "\n",
       "                     62         63         64          65        66  \\\n",
       "Id                                                                    \n",
       "100000-query  -75.51302  52.830902 -143.43945   59.051935  69.28224   \n",
       "100001-query  -79.44183  29.185436 -168.60590  -82.872443  70.76560   \n",
       "100002-query -134.79541  37.368730 -159.66231 -119.232725  67.71044   \n",
       "100003-query  -77.23611  44.100494 -132.53012 -106.318982  70.88396   \n",
       "100004-query -123.77025  45.635944 -134.25893   13.735359  70.61763   \n",
       "\n",
       "                     67         68          69           70          71  \n",
       "Id                                                                       \n",
       "100000-query  61.927513  111.59253  115.140656 -1099.130485 -117.079360  \n",
       "100001-query -65.975950   97.07716  123.391640  -744.442332  -25.009320  \n",
       "100002-query  86.002060  137.63641  141.081630  -294.052271  -70.969604  \n",
       "100003-query  23.577892  133.18396  143.252940  -799.363667  -89.392670  \n",
       "100004-query  15.332115  154.56812  101.700640 -1171.892332 -125.307890  \n",
       "\n",
       "[5 rows x 72 columns]"
      ]
     },
     "metadata": {},
     "output_type": "display_data"
    },
    {
     "name": "stdout",
     "output_type": "stream",
     "text": [
      "Вывод первых пяти строк для таблицы 'validation_answer.csv'\n"
     ]
    },
    {
     "data": {
      "text/html": [
       "<div>\n",
       "<style scoped>\n",
       "    .dataframe tbody tr th:only-of-type {\n",
       "        vertical-align: middle;\n",
       "    }\n",
       "\n",
       "    .dataframe tbody tr th {\n",
       "        vertical-align: top;\n",
       "    }\n",
       "\n",
       "    .dataframe thead th {\n",
       "        text-align: right;\n",
       "    }\n",
       "</style>\n",
       "<table border=\"1\" class=\"dataframe\">\n",
       "  <thead>\n",
       "    <tr style=\"text-align: right;\">\n",
       "      <th></th>\n",
       "      <th>Expected</th>\n",
       "    </tr>\n",
       "    <tr>\n",
       "      <th>Id</th>\n",
       "      <th></th>\n",
       "    </tr>\n",
       "  </thead>\n",
       "  <tbody>\n",
       "    <tr>\n",
       "      <th>100000-query</th>\n",
       "      <td>2676668-base</td>\n",
       "    </tr>\n",
       "    <tr>\n",
       "      <th>100001-query</th>\n",
       "      <td>91606-base</td>\n",
       "    </tr>\n",
       "    <tr>\n",
       "      <th>100002-query</th>\n",
       "      <td>472256-base</td>\n",
       "    </tr>\n",
       "    <tr>\n",
       "      <th>100003-query</th>\n",
       "      <td>3168654-base</td>\n",
       "    </tr>\n",
       "    <tr>\n",
       "      <th>100004-query</th>\n",
       "      <td>75484-base</td>\n",
       "    </tr>\n",
       "  </tbody>\n",
       "</table>\n",
       "</div>"
      ],
      "text/plain": [
       "                  Expected\n",
       "Id                        \n",
       "100000-query  2676668-base\n",
       "100001-query    91606-base\n",
       "100002-query   472256-base\n",
       "100003-query  3168654-base\n",
       "100004-query    75484-base"
      ]
     },
     "metadata": {},
     "output_type": "display_data"
    }
   ],
   "source": [
    "DATA_PATH = './data/'\n",
    "\n",
    "df_base_res = pd.read_csv(DATA_PATH+'base.csv', index_col=0)\n",
    "df_train_res = pd.read_csv(DATA_PATH+'train.csv', index_col=0)\n",
    "df_validation_res = pd.read_csv(DATA_PATH+'validation.csv', index_col=0)\n",
    "df_validation_answer_res = pd.read_csv(DATA_PATH+'validation_answer.csv', index_col=0)\n",
    "\n",
    "print('Вывод первых пяти строк для таблицы \\'base.csv\\'')\n",
    "display(df_base_res.head())\n",
    "\n",
    "print('Вывод первых пяти строк для таблицы \\'train.csv\\'')\n",
    "display(df_train_res.head())\n",
    "\n",
    "print('Вывод первых пяти строк для таблицы \\'validation.csv\\'')\n",
    "display(df_validation_res.head())\n",
    "\n",
    "print('Вывод первых пяти строк для таблицы \\'validation_answer.csv\\'')\n",
    "display(df_validation_answer_res.head())"
   ]
  },
  {
   "cell_type": "code",
   "execution_count": 3,
   "metadata": {},
   "outputs": [
    {
     "name": "stdout",
     "output_type": "stream",
     "text": [
      "Вывод общей информации для таблицы 'base.csv' \n",
      "\n",
      "<class 'pandas.core.frame.DataFrame'>\n",
      "Index: 2918139 entries, 0-base to 4744766-base\n",
      "Data columns (total 72 columns):\n",
      " #   Column  Dtype  \n",
      "---  ------  -----  \n",
      " 0   0       float64\n",
      " 1   1       float64\n",
      " 2   2       float64\n",
      " 3   3       float64\n",
      " 4   4       float64\n",
      " 5   5       float64\n",
      " 6   6       float64\n",
      " 7   7       float64\n",
      " 8   8       float64\n",
      " 9   9       float64\n",
      " 10  10      float64\n",
      " 11  11      float64\n",
      " 12  12      float64\n",
      " 13  13      float64\n",
      " 14  14      float64\n",
      " 15  15      float64\n",
      " 16  16      float64\n",
      " 17  17      float64\n",
      " 18  18      float64\n",
      " 19  19      float64\n",
      " 20  20      float64\n",
      " 21  21      float64\n",
      " 22  22      float64\n",
      " 23  23      float64\n",
      " 24  24      float64\n",
      " 25  25      float64\n",
      " 26  26      float64\n",
      " 27  27      float64\n",
      " 28  28      float64\n",
      " 29  29      float64\n",
      " 30  30      float64\n",
      " 31  31      float64\n",
      " 32  32      float64\n",
      " 33  33      float64\n",
      " 34  34      float64\n",
      " 35  35      float64\n",
      " 36  36      float64\n",
      " 37  37      float64\n",
      " 38  38      float64\n",
      " 39  39      float64\n",
      " 40  40      float64\n",
      " 41  41      float64\n",
      " 42  42      float64\n",
      " 43  43      float64\n",
      " 44  44      float64\n",
      " 45  45      float64\n",
      " 46  46      float64\n",
      " 47  47      float64\n",
      " 48  48      float64\n",
      " 49  49      float64\n",
      " 50  50      float64\n",
      " 51  51      float64\n",
      " 52  52      float64\n",
      " 53  53      float64\n",
      " 54  54      float64\n",
      " 55  55      float64\n",
      " 56  56      float64\n",
      " 57  57      float64\n",
      " 58  58      float64\n",
      " 59  59      float64\n",
      " 60  60      float64\n",
      " 61  61      float64\n",
      " 62  62      float64\n",
      " 63  63      float64\n",
      " 64  64      float64\n",
      " 65  65      float64\n",
      " 66  66      float64\n",
      " 67  67      float64\n",
      " 68  68      float64\n",
      " 69  69      float64\n",
      " 70  70      float64\n",
      " 71  71      float64\n",
      "dtypes: float64(72)\n",
      "memory usage: 1.6+ GB\n",
      "\n",
      "Вывод общей информации для таблицы 'train.csv' \n",
      "\n",
      "<class 'pandas.core.frame.DataFrame'>\n",
      "Index: 100000 entries, 0-query to 99999-query\n",
      "Data columns (total 73 columns):\n",
      " #   Column  Non-Null Count   Dtype  \n",
      "---  ------  --------------   -----  \n",
      " 0   0       100000 non-null  float64\n",
      " 1   1       100000 non-null  float64\n",
      " 2   2       100000 non-null  float64\n",
      " 3   3       100000 non-null  float64\n",
      " 4   4       100000 non-null  float64\n",
      " 5   5       100000 non-null  float64\n",
      " 6   6       100000 non-null  float64\n",
      " 7   7       100000 non-null  float64\n",
      " 8   8       100000 non-null  float64\n",
      " 9   9       100000 non-null  float64\n",
      " 10  10      100000 non-null  float64\n",
      " 11  11      100000 non-null  float64\n",
      " 12  12      100000 non-null  float64\n",
      " 13  13      100000 non-null  float64\n",
      " 14  14      100000 non-null  float64\n",
      " 15  15      100000 non-null  float64\n",
      " 16  16      100000 non-null  float64\n",
      " 17  17      100000 non-null  float64\n",
      " 18  18      100000 non-null  float64\n",
      " 19  19      100000 non-null  float64\n",
      " 20  20      100000 non-null  float64\n",
      " 21  21      100000 non-null  float64\n",
      " 22  22      100000 non-null  float64\n",
      " 23  23      100000 non-null  float64\n",
      " 24  24      100000 non-null  float64\n",
      " 25  25      100000 non-null  float64\n",
      " 26  26      100000 non-null  float64\n",
      " 27  27      100000 non-null  float64\n",
      " 28  28      100000 non-null  float64\n",
      " 29  29      100000 non-null  float64\n",
      " 30  30      100000 non-null  float64\n",
      " 31  31      100000 non-null  float64\n",
      " 32  32      100000 non-null  float64\n",
      " 33  33      100000 non-null  float64\n",
      " 34  34      100000 non-null  float64\n",
      " 35  35      100000 non-null  float64\n",
      " 36  36      100000 non-null  float64\n",
      " 37  37      100000 non-null  float64\n",
      " 38  38      100000 non-null  float64\n",
      " 39  39      100000 non-null  float64\n",
      " 40  40      100000 non-null  float64\n",
      " 41  41      100000 non-null  float64\n",
      " 42  42      100000 non-null  float64\n",
      " 43  43      100000 non-null  float64\n",
      " 44  44      100000 non-null  float64\n",
      " 45  45      100000 non-null  float64\n",
      " 46  46      100000 non-null  float64\n",
      " 47  47      100000 non-null  float64\n",
      " 48  48      100000 non-null  float64\n",
      " 49  49      100000 non-null  float64\n",
      " 50  50      100000 non-null  float64\n",
      " 51  51      100000 non-null  float64\n",
      " 52  52      100000 non-null  float64\n",
      " 53  53      100000 non-null  float64\n",
      " 54  54      100000 non-null  float64\n",
      " 55  55      100000 non-null  float64\n",
      " 56  56      100000 non-null  float64\n",
      " 57  57      100000 non-null  float64\n",
      " 58  58      100000 non-null  float64\n",
      " 59  59      100000 non-null  float64\n",
      " 60  60      100000 non-null  float64\n",
      " 61  61      100000 non-null  float64\n",
      " 62  62      100000 non-null  float64\n",
      " 63  63      100000 non-null  float64\n",
      " 64  64      100000 non-null  float64\n",
      " 65  65      100000 non-null  float64\n",
      " 66  66      100000 non-null  float64\n",
      " 67  67      100000 non-null  float64\n",
      " 68  68      100000 non-null  float64\n",
      " 69  69      100000 non-null  float64\n",
      " 70  70      100000 non-null  float64\n",
      " 71  71      100000 non-null  float64\n",
      " 72  Target  100000 non-null  object \n",
      "dtypes: float64(72), object(1)\n",
      "memory usage: 56.5+ MB\n",
      "\n",
      "Вывод общей информации для таблицы 'validation.csv' \n",
      "\n",
      "<class 'pandas.core.frame.DataFrame'>\n",
      "Index: 100000 entries, 100000-query to 199999-query\n",
      "Data columns (total 72 columns):\n",
      " #   Column  Non-Null Count   Dtype  \n",
      "---  ------  --------------   -----  \n",
      " 0   0       100000 non-null  float64\n",
      " 1   1       100000 non-null  float64\n",
      " 2   2       100000 non-null  float64\n",
      " 3   3       100000 non-null  float64\n",
      " 4   4       100000 non-null  float64\n",
      " 5   5       100000 non-null  float64\n",
      " 6   6       100000 non-null  float64\n",
      " 7   7       100000 non-null  float64\n",
      " 8   8       100000 non-null  float64\n",
      " 9   9       100000 non-null  float64\n",
      " 10  10      100000 non-null  float64\n",
      " 11  11      100000 non-null  float64\n",
      " 12  12      100000 non-null  float64\n",
      " 13  13      100000 non-null  float64\n",
      " 14  14      100000 non-null  float64\n",
      " 15  15      100000 non-null  float64\n",
      " 16  16      100000 non-null  float64\n",
      " 17  17      100000 non-null  float64\n",
      " 18  18      100000 non-null  float64\n",
      " 19  19      100000 non-null  float64\n",
      " 20  20      100000 non-null  float64\n",
      " 21  21      100000 non-null  float64\n",
      " 22  22      100000 non-null  float64\n",
      " 23  23      100000 non-null  float64\n",
      " 24  24      100000 non-null  float64\n",
      " 25  25      100000 non-null  float64\n",
      " 26  26      100000 non-null  float64\n",
      " 27  27      100000 non-null  float64\n",
      " 28  28      100000 non-null  float64\n",
      " 29  29      100000 non-null  float64\n",
      " 30  30      100000 non-null  float64\n",
      " 31  31      100000 non-null  float64\n",
      " 32  32      100000 non-null  float64\n",
      " 33  33      100000 non-null  float64\n",
      " 34  34      100000 non-null  float64\n",
      " 35  35      100000 non-null  float64\n",
      " 36  36      100000 non-null  float64\n",
      " 37  37      100000 non-null  float64\n",
      " 38  38      100000 non-null  float64\n",
      " 39  39      100000 non-null  float64\n",
      " 40  40      100000 non-null  float64\n",
      " 41  41      100000 non-null  float64\n",
      " 42  42      100000 non-null  float64\n",
      " 43  43      100000 non-null  float64\n",
      " 44  44      100000 non-null  float64\n",
      " 45  45      100000 non-null  float64\n",
      " 46  46      100000 non-null  float64\n",
      " 47  47      100000 non-null  float64\n",
      " 48  48      100000 non-null  float64\n",
      " 49  49      100000 non-null  float64\n",
      " 50  50      100000 non-null  float64\n",
      " 51  51      100000 non-null  float64\n",
      " 52  52      100000 non-null  float64\n",
      " 53  53      100000 non-null  float64\n",
      " 54  54      100000 non-null  float64\n",
      " 55  55      100000 non-null  float64\n",
      " 56  56      100000 non-null  float64\n",
      " 57  57      100000 non-null  float64\n",
      " 58  58      100000 non-null  float64\n",
      " 59  59      100000 non-null  float64\n",
      " 60  60      100000 non-null  float64\n",
      " 61  61      100000 non-null  float64\n",
      " 62  62      100000 non-null  float64\n",
      " 63  63      100000 non-null  float64\n",
      " 64  64      100000 non-null  float64\n",
      " 65  65      100000 non-null  float64\n",
      " 66  66      100000 non-null  float64\n",
      " 67  67      100000 non-null  float64\n",
      " 68  68      100000 non-null  float64\n",
      " 69  69      100000 non-null  float64\n",
      " 70  70      100000 non-null  float64\n",
      " 71  71      100000 non-null  float64\n",
      "dtypes: float64(72)\n",
      "memory usage: 55.7+ MB\n",
      "\n",
      "Вывод общей информации для таблицы 'validation_answer.csv'\n",
      "<class 'pandas.core.frame.DataFrame'>\n",
      "Index: 100000 entries, 100000-query to 199999-query\n",
      "Data columns (total 1 columns):\n",
      " #   Column    Non-Null Count   Dtype \n",
      "---  ------    --------------   ----- \n",
      " 0   Expected  100000 non-null  object\n",
      "dtypes: object(1)\n",
      "memory usage: 1.5+ MB\n"
     ]
    }
   ],
   "source": [
    "print('Вывод общей информации для таблицы \\'base.csv\\'', '\\n')\n",
    "df_base_res.info()\n",
    "\n",
    "print('\\nВывод общей информации для таблицы \\'train.csv\\'', '\\n')\n",
    "df_train_res.info()\n",
    "\n",
    "print('\\nВывод общей информации для таблицы \\'validation.csv\\'', '\\n')\n",
    "df_validation_res.info()\n",
    "\n",
    "print('\\nВывод общей информации для таблицы \\'validation_answer.csv\\'')\n",
    "df_validation_answer_res.info()"
   ]
  },
  {
   "cell_type": "code",
   "execution_count": 4,
   "metadata": {},
   "outputs": [
    {
     "name": "stdout",
     "output_type": "stream",
     "text": [
      "Общее количество пропусков в исследуемых данных: 0\n"
     ]
    }
   ],
   "source": [
    "passes = df_train_res.isna().sum().sum() + \\\n",
    "         df_base_res.isna().sum().sum() + \\\n",
    "         df_validation_res.isna().sum().sum() + \\\n",
    "         df_validation_answer_res.isna().sum().sum()\n",
    "\n",
    "print('Общее количество пропусков в исследуемых данных:', passes)"
   ]
  },
  {
   "cell_type": "code",
   "execution_count": 5,
   "metadata": {},
   "outputs": [
    {
     "data": {
      "image/png": "[encoded data removed]",
      "text/plain": [
       "<Figure size 1800x1600 with 72 Axes>"
      ]
     },
     "metadata": {},
     "output_type": "display_data"
    }
   ],
   "source": [
    "df_train_res.hist(figsize=(18, 16), bins=100, grid=False, color='red');\n",
    "plt.tight_layout()\n",
    "plt.show()"
   ]
  },
  {
   "cell_type": "code",
   "execution_count": 6,
   "metadata": {},
   "outputs": [
    {
     "data": {
      "image/png": "[encoded data removed]",
      "text/plain": [
       "<Figure size 2000x1600 with 2 Axes>"
      ]
     },
     "metadata": {},
     "output_type": "display_data"
    }
   ],
   "source": [
    "f, ax = plt.subplots(figsize=(20, 16))\n",
    "sns.heatmap(df_train_res.drop('Target', axis=1).corr(), vmin=-1, vmax=1, square=True, annot=False, fmt='.2f');\n",
    "plt.title('Матрица коэффициентов корреляции Пирсона')\n",
    "plt.show()"
   ]
  },
  {
   "cell_type": "code",
   "execution_count": 7,
   "metadata": {},
   "outputs": [
    {
     "data": {
      "image/png": "[encoded data removed]",
      "text/plain": [
       "<Figure size 2000x1600 with 2 Axes>"
      ]
     },
     "metadata": {},
     "output_type": "display_data"
    }
   ],
   "source": [
    "f, ax = plt.subplots(figsize=(20, 16))\n",
    "phik_matrix = df_train_res.drop('Target', axis=1).phik_matrix(interval_cols=df_train_res.drop('Target', axis=1).columns)\n",
    "sns.heatmap(phik_matrix, vmin=0, vmax=1, square=False, annot=False, fmt='.1f')\n",
    "plt.title('Матрица коэффициентов корреляции Фи (Phi)')\n",
    "plt.show()"
   ]
  },
  {
   "cell_type": "markdown",
   "metadata": {},
   "source": [
    "## Предварительная обработка данных"
   ]
  },
  {
   "cell_type": "code",
   "execution_count": 8,
   "metadata": {},
   "outputs": [
    {
     "name": "stdout",
     "output_type": "stream",
     "text": [
      "Размер использования памяти: до 1625.25 Mb - после 823.75 Mb (49.3%)\n",
      "Размер использования памяти: до 56.46 Mb - после 28.99 Mb (48.6%)\n",
      "Размер использования памяти: до 55.69 Mb - после 28.23 Mb (49.3%)\n",
      "Размер использования памяти: до  1.53 Mb - после  1.53 Mb (0.0%)\n"
     ]
    }
   ],
   "source": [
    "# Оптимизация числовых типов данных\n",
    "def optimize_memory_usage(df: pd.DataFrame, print_size: bool=True) -> pd.DataFrame:\n",
    "    '''\n",
    "    Function optimizes memory usage in dataframe\n",
    "    df: pd.DataFrame - data table\n",
    "    print_size: bool - display of optimization results\n",
    "    return pd.DataFrame - amount of optimized memory\n",
    "    '''\n",
    "    numerics = ['int16', 'int32', 'int64', 'float16', 'float32', 'float64'] # Типы, которые будем проверять на оптимизацию\n",
    "    # Размер занимаемой памяти до оптимизации (в Мб)\n",
    "    before_size = df.memory_usage().sum() / 1024**2    \n",
    "    for column in df.columns:\n",
    "        column_type = df[column].dtypes\n",
    "        if column_type in numerics:\n",
    "            column_min = df[column].min()\n",
    "            column_max = df[column].max()\n",
    "            if str(column_type).startswith('int'):\n",
    "                if column_min > np.iinfo(np.int8).min and column_max < np.iinfo(np.int8).max:\n",
    "                    df[column] = df[column].astype(np.int8)\n",
    "                elif column_min > np.iinfo(np.int16).min and column_max < np.iinfo(np.int16).max:\n",
    "                    df[column] = df[column].astype(np.int16)\n",
    "                elif column_min > np.iinfo(np.int32).min and column_max < np.iinfo(np.int32).max:\n",
    "                    df[column] = df[column].astype(np.int32)\n",
    "                elif column_min > np.iinfo(np.int64).min and column_max < np.iinfo(np.int64).max:\n",
    "                    df[column] = df[column].astype(np.int64)  \n",
    "            else:\n",
    "                if column_min > np.finfo(np.float32).min and column_max < np.finfo(np.float32).max:\n",
    "                    df[column] = df[column].astype(np.float32)\n",
    "                else:\n",
    "                    df[column] = df[column].astype(np.float64)    \n",
    "    # Размер занимаемой памяти после оптимизации (в Мб)\n",
    "    after_size = df.memory_usage().sum() / 1024**2\n",
    "    if print_size: print('Размер использования памяти: до {:5.2f} Mb - после {:5.2f} Mb ({:.1%})'\n",
    "                        .format(before_size, after_size, (before_size - after_size) / before_size))\n",
    "    return df\n",
    "\n",
    "df_base_res = optimize_memory_usage(df_base_res)\n",
    "df_train_res = optimize_memory_usage(df_train_res)\n",
    "df_validation_res = optimize_memory_usage(df_validation_res)\n",
    "df_validation_answer_res = optimize_memory_usage(df_validation_answer_res)"
   ]
  },
  {
   "cell_type": "markdown",
   "metadata": {},
   "source": [
    "### Вывод\n",
    "\n",
    "Данные в основном представлены непрерывными числовыми значениями, основная их доля очевидно имеет нормальное распределение. Те данные, которые явно не характеризуются нормальным распределением, будут вносить лишний шум в результаты метчинга. Пропусков не обнаружено, сильных корреляций и зависимостей так же не выявлено."
   ]
  },
  {
   "cell_type": "code",
   "execution_count": 9,
   "metadata": {},
   "outputs": [],
   "source": [
    "# Отбрасываем признаки по результатам исследования качества метчинга\n",
    "features_drop = ['6','21','25','33','44','59','65']\n",
    "\n",
    "df_base_res = df_base_res.drop(features_drop, axis=1)\n",
    "df_train_res = df_train_res.drop(features_drop, axis=1)\n",
    "df_validation_res = df_validation_res.drop(features_drop, axis=1)"
   ]
  },
  {
   "cell_type": "markdown",
   "metadata": {},
   "source": [
    "## Разведочный анализ данных"
   ]
  },
  {
   "cell_type": "code",
   "execution_count": 10,
   "metadata": {},
   "outputs": [
    {
     "name": "stdout",
     "output_type": "stream",
     "text": [
      "Список признаков для фильтрации: ['3']\n"
     ]
    }
   ],
   "source": [
    "# Фильтруем признаки, отличающиеся со значимостью более 0,0001\n",
    "TUNE_SIMILARITIES = False\n",
    "\n",
    "if TUNE_SIMILARITIES == True:\n",
    "    E_As = np.sqrt(6 / len(df_base_res))\n",
    "    E_Ex = 2 * E_As\n",
    "    drop_list = [] # Список признаков для фильтрации\n",
    "    for feat in df_base_res.columns:\n",
    "        # Считаем сумму модулей значений соотношения коэффициентов асимметрии и эксцесса к их ошибкам признака feat\n",
    "        feat_as_ex_sum = abs(df_base_res[feat].skew() / E_As) + abs(df_base_res[feat].kurt() / E_Ex)\n",
    "        for other_feat in df_base_res.columns:\n",
    "            if other_feat == feat:\n",
    "                pass\n",
    "            else:\n",
    "                stat, p_value = st.ttest_ind(df_base_res[feat], df_base_res[other_feat], equal_var=False)\n",
    "                # Считаем сумму модулей значений соотношения коэффициентов асимметрии и эксцесса к их ошибкам признака other_feat\n",
    "                other_feat_as_ex_sum = abs(df_base_res[other_feat].skew() / E_As) + abs(df_base_res[other_feat].kurt() / E_Ex)\n",
    "                # Добавляем в список фильтрации признак с наибольшем отличием от нормального распределения\n",
    "                if (p_value > 0.001) and (feat_as_ex_sum > other_feat_as_ex_sum) and (feat not in drop_list):\n",
    "                    drop_list.append(feat)\n",
    "                elif (p_value > 0.001) and (feat_as_ex_sum < other_feat_as_ex_sum) and (other_feat not in drop_list):\n",
    "                    drop_list.append(other_feat)\n",
    "    print(f'Список признаков для фильтрации: {drop_list}')\n",
    "else:\n",
    "    drop_list = ['3']\n",
    "    print(f'Список признаков для фильтрации: {drop_list}')\n",
    "\n",
    "df_base_res = df_base_res.drop(drop_list, axis=1)\n",
    "df_train_res = df_train_res.drop(drop_list, axis=1)\n",
    "df_validation_res = df_validation_res.drop(drop_list, axis=1)"
   ]
  },
  {
   "cell_type": "code",
   "execution_count": 11,
   "metadata": {},
   "outputs": [
    {
     "data": {
      "image/png": "[encoded data removed]",
      "text/plain": [
       "<Figure size 2000x800 with 1 Axes>"
      ]
     },
     "metadata": {},
     "output_type": "display_data"
    }
   ],
   "source": [
    "# Рассмотрим медианные значения и стандартное отклонение исследуемых признаков\n",
    "medians = df_train_res.drop(['Target','70'], axis=1).median()\n",
    "df_sorted = df_train_res[medians.sort_values().index] # Сортируем значения медиан в возрастающем порядке\n",
    "\n",
    "# Построение графиков для каждого признака в отсортированном порядке\n",
    "fig, ax = plt.subplots(figsize=(20, 8))\n",
    "df_sorted.boxplot(ax=ax)\n",
    "plt.xlabel('Признаки')\n",
    "plt.ylabel('Значения')\n",
    "plt.title('Графики размаха признаков отсортированных по возрастанию медианного значения')\n",
    "plt.show()"
   ]
  },
  {
   "cell_type": "markdown",
   "metadata": {},
   "source": [
    "### Вывод\n",
    "\n",
    "Найдена пара признаков, отличия которых не значимы на уровне 0,001, из которых отфильтрован признак '3', которые характеризуются распределением, в наибольшей степени отличающимся от нормального."
   ]
  },
  {
   "cell_type": "code",
   "execution_count": 12,
   "metadata": {},
   "outputs": [],
   "source": [
    "# Стандартизация признаков наиболее подходящей моделью\n",
    "scaler = StandardScaler()\n",
    "df_base = scaler.fit_transform(df_base_res)\n",
    "#joblib.dump(scaler, 'standard_scaler.pkl') # Сохранение модели в файл\n",
    "df_train = scaler.transform(df_train_res.drop('Target', axis=1))\n",
    "df_validation = scaler.transform(df_validation_res)\n",
    "\n",
    "df_base = pd.DataFrame(df_base, columns=df_base_res.columns, index=df_base_res.index)\n",
    "df_train = pd.DataFrame(df_train, columns=df_base_res.columns, index=df_train_res.index)\n",
    "df_validation = pd.DataFrame(df_validation, columns=df_validation_res.columns, index=df_validation_res.index)\n",
    "\n",
    "df_train['Target'] = df_train_res['Target']\n",
    "\n",
    "X = np.ascontiguousarray(np.array(df_train.drop('Target', axis=1)))\n",
    "Y = np.ascontiguousarray(np.array(df_train['Target']))\n",
    "\n",
    "X_test = np.ascontiguousarray(np.array(df_validation))\n",
    "Y_test = np.ascontiguousarray(np.array(df_validation_answer_res))"
   ]
  },
  {
   "cell_type": "markdown",
   "metadata": {},
   "source": [
    "## Выбор подходящих ML моделей\n",
    "\n",
    "### Поиск ближайших соседей: **FAISS**"
   ]
  },
  {
   "cell_type": "code",
   "execution_count": 13,
   "metadata": {},
   "outputs": [],
   "source": [
    "# Создание словаря\n",
    "base_index = {k: v for k, v in enumerate(df_base.index)}"
   ]
  },
  {
   "cell_type": "code",
   "execution_count": 14,
   "metadata": {},
   "outputs": [],
   "source": [
    "# Подбор оптимальных гиперпараметров для получения индексов FAISS\n",
    "TUNE_INDEX = False\n",
    "\n",
    "if TUNE_INDEX == True:\n",
    "    dims = df_base.shape[1]\n",
    "    n_cells = 20\n",
    "\n",
    "    quantizer = faiss.IndexFlatL2(dims)\n",
    "    idx_l2 = faiss.IndexIVFPQ(quantizer, dims, n_cells, 8, 8)\n",
    "\n",
    "    start_time = time.time() # Считаем время создания индексов\n",
    "    idx_l2.train(np.ascontiguousarray(df_base.values))\n",
    "    idx_l2.add(np.ascontiguousarray(df_base.values))\n",
    "    print(f'Время создания индексов: {np.round((time.time() - start_time) / 60, 2)} мин')\n",
    "\n",
    "    start = time.time() # Считаем время поиска индексов\n",
    "    r, idx = idx_l2.search(X, 5)\n",
    "    print('Время поиска:', np.round((time.time() - start) / 60, 2), 'мин')\n",
    "\n",
    "    acc = sum(int(target in [base_index[r] for r in el]) for target, el in zip(Y, idx))\n",
    "    accuracy = np.round(100 * acc / len(idx), 2)\n",
    "    print(f'Значение целевой метрики: {accuracy} %')"
   ]
  },
  {
   "cell_type": "markdown",
   "metadata": {},
   "source": [
    "- Используем faiss.IndexIVFFlat(quantizer, dims, n_cells=20), accuracy@5 = 69,2%, время поиска индексов = 39,6 мин\n",
    "- Используем faiss.IndexIVFFlat(quantizer, dims, n_cells=20), accuracy@5 = 60,3%, время поиска индексов = 1,8 мин\n",
    "- Используем faiss.IndexIVFPQ(quantizer, dims, n_cells=1, 8, 8), accuracy@5 = 63.87%, время поиска индексов = 4.84 мин\n",
    "- Используем faiss.IndexIVFPQ(quantizer, dims, n_cells=20, 8, 8), accuracy@5 = 58.48%, время поиска индексов = 0.27 мин"
   ]
  },
  {
   "cell_type": "code",
   "execution_count": 15,
   "metadata": {},
   "outputs": [
    {
     "data": {
      "application/vnd.plotly.v1+json": {
       "config": {
        "plotlyServerURL": "https://plot.ly"
       },
       "data": [
        {
         "mode": "lines",
         "name": "100-accuracy@5",
         "type": "scatter",
         "x": [
          1,
          4,
          5,
          6,
          10,
          15,
          20,
          25,
          30
         ],
         "y": [
          0,
          0.5869565217391308,
          0.5652173913043481,
          0.7608695652173911,
          0.847826086956522,
          0.9130434782608705,
          0.956521739130435,
          0.9673913043478266,
          1.0000000000000004
         ]
        },
        {
         "mode": "lines",
         "name": "index_search_time",
         "type": "scatter",
         "x": [
          1,
          4,
          5,
          6,
          10,
          15,
          20,
          25,
          30
         ],
         "y": [
          0.9999999999999999,
          0.23560209424083767,
          0.15968586387434555,
          0.15968586387434555,
          0.07329842931937172,
          0.036649214659685854,
          0.018324607329842937,
          0.007853403141361258,
          0
         ]
        }
       ],
       "layout": {
        "template": {
         "data": {
          "bar": [
           {
            "error_x": {
             "color": "#2a3f5f"
            },
            "error_y": {
             "color": "#2a3f5f"
            },
            "marker": {
             "line": {
              "color": "#E5ECF6",
              "width": 0.5
             },
             "pattern": {
              "fillmode": "overlay",
              "size": 10,
              "solidity": 0.2
             }
            },
            "type": "bar"
           }
          ],
          "barpolar": [
           {
            "marker": {
             "line": {
              "color": "#E5ECF6",
              "width": 0.5
             },
             "pattern": {
              "fillmode": "overlay",
              "size": 10,
              "solidity": 0.2
             }
            },
            "type": "barpolar"
           }
          ],
          "carpet": [
           {
            "aaxis": {
             "endlinecolor": "#2a3f5f",
             "gridcolor": "white",
             "linecolor": "white",
             "minorgridcolor": "white",
             "startlinecolor": "#2a3f5f"
            },
            "baxis": {
             "endlinecolor": "#2a3f5f",
             "gridcolor": "white",
             "linecolor": "white",
             "minorgridcolor": "white",
             "startlinecolor": "#2a3f5f"
            },
            "type": "carpet"
           }
          ],
          "choropleth": [
           {
            "colorbar": {
             "outlinewidth": 0,
             "ticks": ""
            },
            "type": "choropleth"
           }
          ],
          "contour": [
           {
            "colorbar": {
             "outlinewidth": 0,
             "ticks": ""
            },
            "colorscale": [
             [
              0,
              "#0d0887"
             ],
             [
              0.1111111111111111,
              "#46039f"
             ],
             [
              0.2222222222222222,
              "#7201a8"
             ],
             [
              0.3333333333333333,
              "#9c179e"
             ],
             [
              0.4444444444444444,
              "#bd3786"
             ],
             [
              0.5555555555555556,
              "#d8576b"
             ],
             [
              0.6666666666666666,
              "#ed7953"
             ],
             [
              0.7777777777777778,
              "#fb9f3a"
             ],
             [
              0.8888888888888888,
              "#fdca26"
             ],
             [
              1,
              "#f0f921"
             ]
            ],
            "type": "contour"
           }
          ],
          "contourcarpet": [
           {
            "colorbar": {
             "outlinewidth": 0,
             "ticks": ""
            },
            "type": "contourcarpet"
           }
          ],
          "heatmap": [
           {
            "colorbar": {
             "outlinewidth": 0,
             "ticks": ""
            },
            "colorscale": [
             [
              0,
              "#0d0887"
             ],
             [
              0.1111111111111111,
              "#46039f"
             ],
             [
              0.2222222222222222,
              "#7201a8"
             ],
             [
              0.3333333333333333,
              "#9c179e"
             ],
             [
              0.4444444444444444,
              "#bd3786"
             ],
             [
              0.5555555555555556,
              "#d8576b"
             ],
             [
              0.6666666666666666,
              "#ed7953"
             ],
             [
              0.7777777777777778,
              "#fb9f3a"
             ],
             [
              0.8888888888888888,
              "#fdca26"
             ],
             [
              1,
              "#f0f921"
             ]
            ],
            "type": "heatmap"
           }
          ],
          "heatmapgl": [
           {
            "colorbar": {
             "outlinewidth": 0,
             "ticks": ""
            },
            "colorscale": [
             [
              0,
              "#0d0887"
             ],
             [
              0.1111111111111111,
              "#46039f"
             ],
             [
              0.2222222222222222,
              "#7201a8"
             ],
             [
              0.3333333333333333,
              "#9c179e"
             ],
             [
              0.4444444444444444,
              "#bd3786"
             ],
             [
              0.5555555555555556,
              "#d8576b"
             ],
             [
              0.6666666666666666,
              "#ed7953"
             ],
             [
              0.7777777777777778,
              "#fb9f3a"
             ],
             [
              0.8888888888888888,
              "#fdca26"
             ],
             [
              1,
              "#f0f921"
             ]
            ],
            "type": "heatmapgl"
           }
          ],
          "histogram": [
           {
            "marker": {
             "pattern": {
              "fillmode": "overlay",
              "size": 10,
              "solidity": 0.2
             }
            },
            "type": "histogram"
           }
          ],
          "histogram2d": [
           {
            "colorbar": {
             "outlinewidth": 0,
             "ticks": ""
            },
            "colorscale": [
             [
              0,
              "#0d0887"
             ],
             [
              0.1111111111111111,
              "#46039f"
             ],
             [
              0.2222222222222222,
              "#7201a8"
             ],
             [
              0.3333333333333333,
              "#9c179e"
             ],
             [
              0.4444444444444444,
              "#bd3786"
             ],
             [
              0.5555555555555556,
              "#d8576b"
             ],
             [
              0.6666666666666666,
              "#ed7953"
             ],
             [
              0.7777777777777778,
              "#fb9f3a"
             ],
             [
              0.8888888888888888,
              "#fdca26"
             ],
             [
              1,
              "#f0f921"
             ]
            ],
            "type": "histogram2d"
           }
          ],
          "histogram2dcontour": [
           {
            "colorbar": {
             "outlinewidth": 0,
             "ticks": ""
            },
            "colorscale": [
             [
              0,
              "#0d0887"
             ],
             [
              0.1111111111111111,
              "#46039f"
             ],
             [
              0.2222222222222222,
              "#7201a8"
             ],
             [
              0.3333333333333333,
              "#9c179e"
             ],
             [
              0.4444444444444444,
              "#bd3786"
             ],
             [
              0.5555555555555556,
              "#d8576b"
             ],
             [
              0.6666666666666666,
              "#ed7953"
             ],
             [
              0.7777777777777778,
              "#fb9f3a"
             ],
             [
              0.8888888888888888,
              "#fdca26"
             ],
             [
              1,
              "#f0f921"
             ]
            ],
            "type": "histogram2dcontour"
           }
          ],
          "mesh3d": [
           {
            "colorbar": {
             "outlinewidth": 0,
             "ticks": ""
            },
            "type": "mesh3d"
           }
          ],
          "parcoords": [
           {
            "line": {
             "colorbar": {
              "outlinewidth": 0,
              "ticks": ""
             }
            },
            "type": "parcoords"
           }
          ],
          "pie": [
           {
            "automargin": true,
            "type": "pie"
           }
          ],
          "scatter": [
           {
            "fillpattern": {
             "fillmode": "overlay",
             "size": 10,
             "solidity": 0.2
            },
            "type": "scatter"
           }
          ],
          "scatter3d": [
           {
            "line": {
             "colorbar": {
              "outlinewidth": 0,
              "ticks": ""
             }
            },
            "marker": {
             "colorbar": {
              "outlinewidth": 0,
              "ticks": ""
             }
            },
            "type": "scatter3d"
           }
          ],
          "scattercarpet": [
           {
            "marker": {
             "colorbar": {
              "outlinewidth": 0,
              "ticks": ""
             }
            },
            "type": "scattercarpet"
           }
          ],
          "scattergeo": [
           {
            "marker": {
             "colorbar": {
              "outlinewidth": 0,
              "ticks": ""
             }
            },
            "type": "scattergeo"
           }
          ],
          "scattergl": [
           {
            "marker": {
             "colorbar": {
              "outlinewidth": 0,
              "ticks": ""
             }
            },
            "type": "scattergl"
           }
          ],
          "scattermapbox": [
           {
            "marker": {
             "colorbar": {
              "outlinewidth": 0,
              "ticks": ""
             }
            },
            "type": "scattermapbox"
           }
          ],
          "scatterpolar": [
           {
            "marker": {
             "colorbar": {
              "outlinewidth": 0,
              "ticks": ""
             }
            },
            "type": "scatterpolar"
           }
          ],
          "scatterpolargl": [
           {
            "marker": {
             "colorbar": {
              "outlinewidth": 0,
              "ticks": ""
             }
            },
            "type": "scatterpolargl"
           }
          ],
          "scatterternary": [
           {
            "marker": {
             "colorbar": {
              "outlinewidth": 0,
              "ticks": ""
             }
            },
            "type": "scatterternary"
           }
          ],
          "surface": [
           {
            "colorbar": {
             "outlinewidth": 0,
             "ticks": ""
            },
            "colorscale": [
             [
              0,
              "#0d0887"
             ],
             [
              0.1111111111111111,
              "#46039f"
             ],
             [
              0.2222222222222222,
              "#7201a8"
             ],
             [
              0.3333333333333333,
              "#9c179e"
             ],
             [
              0.4444444444444444,
              "#bd3786"
             ],
             [
              0.5555555555555556,
              "#d8576b"
             ],
             [
              0.6666666666666666,
              "#ed7953"
             ],
             [
              0.7777777777777778,
              "#fb9f3a"
             ],
             [
              0.8888888888888888,
              "#fdca26"
             ],
             [
              1,
              "#f0f921"
             ]
            ],
            "type": "surface"
           }
          ],
          "table": [
           {
            "cells": {
             "fill": {
              "color": "#EBF0F8"
             },
             "line": {
              "color": "white"
             }
            },
            "header": {
             "fill": {
              "color": "#C8D4E3"
             },
             "line": {
              "color": "white"
             }
            },
            "type": "table"
           }
          ]
         },
         "layout": {
          "annotationdefaults": {
           "arrowcolor": "#2a3f5f",
           "arrowhead": 0,
           "arrowwidth": 1
          },
          "autotypenumbers": "strict",
          "coloraxis": {
           "colorbar": {
            "outlinewidth": 0,
            "ticks": ""
           }
          },
          "colorscale": {
           "diverging": [
            [
             0,
             "#8e0152"
            ],
            [
             0.1,
             "#c51b7d"
            ],
            [
             0.2,
             "#de77ae"
            ],
            [
             0.3,
             "#f1b6da"
            ],
            [
             0.4,
             "#fde0ef"
            ],
            [
             0.5,
             "#f7f7f7"
            ],
            [
             0.6,
             "#e6f5d0"
            ],
            [
             0.7,
             "#b8e186"
            ],
            [
             0.8,
             "#7fbc41"
            ],
            [
             0.9,
             "#4d9221"
            ],
            [
             1,
             "#276419"
            ]
           ],
           "sequential": [
            [
             0,
             "#0d0887"
            ],
            [
             0.1111111111111111,
             "#46039f"
            ],
            [
             0.2222222222222222,
             "#7201a8"
            ],
            [
             0.3333333333333333,
             "#9c179e"
            ],
            [
             0.4444444444444444,
             "#bd3786"
            ],
            [
             0.5555555555555556,
             "#d8576b"
            ],
            [
             0.6666666666666666,
             "#ed7953"
            ],
            [
             0.7777777777777778,
             "#fb9f3a"
            ],
            [
             0.8888888888888888,
             "#fdca26"
            ],
            [
             1,
             "#f0f921"
            ]
           ],
           "sequentialminus": [
            [
             0,
             "#0d0887"
            ],
            [
             0.1111111111111111,
             "#46039f"
            ],
            [
             0.2222222222222222,
             "#7201a8"
            ],
            [
             0.3333333333333333,
             "#9c179e"
            ],
            [
             0.4444444444444444,
             "#bd3786"
            ],
            [
             0.5555555555555556,
             "#d8576b"
            ],
            [
             0.6666666666666666,
             "#ed7953"
            ],
            [
             0.7777777777777778,
             "#fb9f3a"
            ],
            [
             0.8888888888888888,
             "#fdca26"
            ],
            [
             1,
             "#f0f921"
            ]
           ]
          },
          "colorway": [
           "#636efa",
           "#EF553B",
           "#00cc96",
           "#ab63fa",
           "#FFA15A",
           "#19d3f3",
           "#FF6692",
           "#B6E880",
           "#FF97FF",
           "#FECB52"
          ],
          "font": {
           "color": "#2a3f5f"
          },
          "geo": {
           "bgcolor": "white",
           "lakecolor": "white",
           "landcolor": "#E5ECF6",
           "showlakes": true,
           "showland": true,
           "subunitcolor": "white"
          },
          "hoverlabel": {
           "align": "left"
          },
          "hovermode": "closest",
          "mapbox": {
           "style": "light"
          },
          "paper_bgcolor": "white",
          "plot_bgcolor": "#E5ECF6",
          "polar": {
           "angularaxis": {
            "gridcolor": "white",
            "linecolor": "white",
            "ticks": ""
           },
           "bgcolor": "#E5ECF6",
           "radialaxis": {
            "gridcolor": "white",
            "linecolor": "white",
            "ticks": ""
           }
          },
          "scene": {
           "xaxis": {
            "backgroundcolor": "#E5ECF6",
            "gridcolor": "white",
            "gridwidth": 2,
            "linecolor": "white",
            "showbackground": true,
            "ticks": "",
            "zerolinecolor": "white"
           },
           "yaxis": {
            "backgroundcolor": "#E5ECF6",
            "gridcolor": "white",
            "gridwidth": 2,
            "linecolor": "white",
            "showbackground": true,
            "ticks": "",
            "zerolinecolor": "white"
           },
           "zaxis": {
            "backgroundcolor": "#E5ECF6",
            "gridcolor": "white",
            "gridwidth": 2,
            "linecolor": "white",
            "showbackground": true,
            "ticks": "",
            "zerolinecolor": "white"
           }
          },
          "shapedefaults": {
           "line": {
            "color": "#2a3f5f"
           }
          },
          "ternary": {
           "aaxis": {
            "gridcolor": "white",
            "linecolor": "white",
            "ticks": ""
           },
           "baxis": {
            "gridcolor": "white",
            "linecolor": "white",
            "ticks": ""
           },
           "bgcolor": "#E5ECF6",
           "caxis": {
            "gridcolor": "white",
            "linecolor": "white",
            "ticks": ""
           }
          },
          "title": {
           "x": 0.05
          },
          "xaxis": {
           "automargin": true,
           "gridcolor": "white",
           "linecolor": "white",
           "ticks": "",
           "title": {
            "standoff": 15
           },
           "zerolinecolor": "white",
           "zerolinewidth": 2
          },
          "yaxis": {
           "automargin": true,
           "gridcolor": "white",
           "linecolor": "white",
           "ticks": "",
           "title": {
            "standoff": 15
           },
           "zerolinecolor": "white",
           "zerolinewidth": 2
          }
         }
        },
        "title": {
         "text": "Изменение наблюдаемых метрик при увеличении количества ячеек n_cells"
        },
        "xaxis": {
         "title": {
          "text": "Количество ячеек n_cells"
         }
        },
        "yaxis": {
         "title": {
          "text": "Значение 100-accuracy@5 и index_search_time"
         }
        }
       }
      }
     },
     "metadata": {},
     "output_type": "display_data"
    }
   ],
   "source": [
    "faiss_res = {\n",
    "    'n_cells':           [1, 4, 5, 6, 10, 15, 20, 25, 30],\n",
    "    '100-accuracy@5':    [30.8, 36.2, 36, 37.8, 38.6, 39.2, 39.6, 39.7, 40],\n",
    "    'index_search_time': [39.6, 10.4, 7.5, 7.5, 4.2, 2.8, 2.1, 1.7, 1.4]\n",
    "}\n",
    "faiss_res = pd.DataFrame(faiss_res)\n",
    "\n",
    "mms = MinMaxScaler()\n",
    "faiss_res_mms = pd.DataFrame(mms.fit_transform(faiss_res), columns=faiss_res.columns)\n",
    "\n",
    "fig = go.Figure()\n",
    "fig.add_trace(go.Scatter(x=faiss_res.n_cells, y=faiss_res_mms['100-accuracy@5'], mode='lines', name='100-accuracy@5'))\n",
    "fig.add_trace(go.Scatter(x=faiss_res.n_cells, y=faiss_res_mms['index_search_time'], mode='lines', name='index_search_time'))\n",
    "fig.update_layout(\n",
    "    xaxis_title='Количество ячеек n_cells', \n",
    "    yaxis_title='Значение 100-accuracy@5 и index_search_time', \n",
    "    title=f'Изменение наблюдаемых метрик при увеличении количества ячеек n_cells')\n",
    "fig.show()"
   ]
  },
  {
   "cell_type": "markdown",
   "metadata": {},
   "source": [
    "Наиболее оптимальное количество n_cells будет находится в районе 5 шт, при этом время поиска индексов составит 10 мин. Наиболее приемлемым значением кажется 15-20, дающее более-менее быстрый поиск по индексу. Наиболее подходящим индексным методом является IndexIVFPQ, который даёт небольшое снижение показателя целевой метрики, но в разы повышает скорость поиска индексов. Он эффективно решает проблему поиска ближайших соседей путем разделения пространства на разделы и квантизации данных в этих разделах с использованием кодовых книг, в нашем конкретном случае равное 8."
   ]
  },
  {
   "cell_type": "markdown",
   "metadata": {},
   "source": [
    "### Поиск ближайших соседей: **Annoy**"
   ]
  },
  {
   "cell_type": "code",
   "execution_count": 16,
   "metadata": {},
   "outputs": [
    {
     "name": "stdout",
     "output_type": "stream",
     "text": [
      "Время создания индексов: 2.8 мин\n",
      "Время поиска: 0.33 мин\n",
      "Значение целевой метрики: 66.65 %\n"
     ]
    }
   ],
   "source": [
    "# Подбор оптимальных гиперпараметров для получения индексов Annoy\n",
    "TUNE_INDEX = False\n",
    "\n",
    "if TUNE_INDEX == True:\n",
    "    dims = df_base.shape[1]\n",
    "    n_cells = 55\n",
    "    distance = 'euclidean'\n",
    "\n",
    "    start_time = time.time() # Считаем время создания индексов\n",
    "    idx_annoy = AnnoyIndex(dims, distance)\n",
    "    data = np.ascontiguousarray(df_base.values)\n",
    "\n",
    "    for i in range(data.shape[0]): # Добавление данных в индекс\n",
    "        idx_annoy.add_item(i, data[i])\n",
    "\n",
    "    idx_annoy.build(n_cells) # Построение индекса\n",
    "    print(f'Время создания индексов: {np.round((time.time() - start_time) / 60, 2)} мин')\n",
    "\n",
    "    start_time = time.time() # Считаем время поиска индексов\n",
    "    idx = [idx_annoy.get_nns_by_vector(x, 5) for x in X]\n",
    "    print(f'Время поиска: {np.round((time.time() - start_time) / 60, 2)} мин')\n",
    "\n",
    "    acc = sum(int(target in [base_index[x] for x in el]) for target, el in zip(Y, idx))\n",
    "    accuracy = np.round(100 * acc / len(idx), 2)\n",
    "    print(f'Значение целевой метрики: {accuracy} %')\n",
    "\n",
    "else:\n",
    "    print('Время создания индексов: 2.8 мин\\nВремя поиска: 0.33 мин\\nЗначение целевой метрики: 66.65 %')"
   ]
  },
  {
   "cell_type": "code",
   "execution_count": 17,
   "metadata": {},
   "outputs": [
    {
     "data": {
      "application/vnd.plotly.v1+json": {
       "config": {
        "plotlyServerURL": "https://plot.ly"
       },
       "data": [
        {
         "mode": "lines",
         "name": "100-accuracy@5",
         "type": "scatter",
         "x": [
          20,
          50,
          55,
          60,
          80,
          110
         ],
         "y": [
          1.0000000000000004,
          0.34177215189873467,
          0.29113924050632933,
          0.240506329113924,
          0.1265822784810129,
          0
         ]
        },
        {
         "mode": "lines",
         "name": "index_search_time",
         "type": "scatter",
         "x": [
          20,
          50,
          55,
          60,
          80,
          110
         ],
         "y": [
          0,
          0.32432432432432423,
          0.3783783783783783,
          0.4594594594594593,
          0.6756756756756754,
          1
         ]
        }
       ],
       "layout": {
        "template": {
         "data": {
          "bar": [
           {
            "error_x": {
             "color": "#2a3f5f"
            },
            "error_y": {
             "color": "#2a3f5f"
            },
            "marker": {
             "line": {
              "color": "#E5ECF6",
              "width": 0.5
             },
             "pattern": {
              "fillmode": "overlay",
              "size": 10,
              "solidity": 0.2
             }
            },
            "type": "bar"
           }
          ],
          "barpolar": [
           {
            "marker": {
             "line": {
              "color": "#E5ECF6",
              "width": 0.5
             },
             "pattern": {
              "fillmode": "overlay",
              "size": 10,
              "solidity": 0.2
             }
            },
            "type": "barpolar"
           }
          ],
          "carpet": [
           {
            "aaxis": {
             "endlinecolor": "#2a3f5f",
             "gridcolor": "white",
             "linecolor": "white",
             "minorgridcolor": "white",
             "startlinecolor": "#2a3f5f"
            },
            "baxis": {
             "endlinecolor": "#2a3f5f",
             "gridcolor": "white",
             "linecolor": "white",
             "minorgridcolor": "white",
             "startlinecolor": "#2a3f5f"
            },
            "type": "carpet"
           }
          ],
          "choropleth": [
           {
            "colorbar": {
             "outlinewidth": 0,
             "ticks": ""
            },
            "type": "choropleth"
           }
          ],
          "contour": [
           {
            "colorbar": {
             "outlinewidth": 0,
             "ticks": ""
            },
            "colorscale": [
             [
              0,
              "#0d0887"
             ],
             [
              0.1111111111111111,
              "#46039f"
             ],
             [
              0.2222222222222222,
              "#7201a8"
             ],
             [
              0.3333333333333333,
              "#9c179e"
             ],
             [
              0.4444444444444444,
              "#bd3786"
             ],
             [
              0.5555555555555556,
              "#d8576b"
             ],
             [
              0.6666666666666666,
              "#ed7953"
             ],
             [
              0.7777777777777778,
              "#fb9f3a"
             ],
             [
              0.8888888888888888,
              "#fdca26"
             ],
             [
              1,
              "#f0f921"
             ]
            ],
            "type": "contour"
           }
          ],
          "contourcarpet": [
           {
            "colorbar": {
             "outlinewidth": 0,
             "ticks": ""
            },
            "type": "contourcarpet"
           }
          ],
          "heatmap": [
           {
            "colorbar": {
             "outlinewidth": 0,
             "ticks": ""
            },
            "colorscale": [
             [
              0,
              "#0d0887"
             ],
             [
              0.1111111111111111,
              "#46039f"
             ],
             [
              0.2222222222222222,
              "#7201a8"
             ],
             [
              0.3333333333333333,
              "#9c179e"
             ],
             [
              0.4444444444444444,
              "#bd3786"
             ],
             [
              0.5555555555555556,
              "#d8576b"
             ],
             [
              0.6666666666666666,
              "#ed7953"
             ],
             [
              0.7777777777777778,
              "#fb9f3a"
             ],
             [
              0.8888888888888888,
              "#fdca26"
             ],
             [
              1,
              "#f0f921"
             ]
            ],
            "type": "heatmap"
           }
          ],
          "heatmapgl": [
           {
            "colorbar": {
             "outlinewidth": 0,
             "ticks": ""
            },
            "colorscale": [
             [
              0,
              "#0d0887"
             ],
             [
              0.1111111111111111,
              "#46039f"
             ],
             [
              0.2222222222222222,
              "#7201a8"
             ],
             [
              0.3333333333333333,
              "#9c179e"
             ],
             [
              0.4444444444444444,
              "#bd3786"
             ],
             [
              0.5555555555555556,
              "#d8576b"
             ],
             [
              0.6666666666666666,
              "#ed7953"
             ],
             [
              0.7777777777777778,
              "#fb9f3a"
             ],
             [
              0.8888888888888888,
              "#fdca26"
             ],
             [
              1,
              "#f0f921"
             ]
            ],
            "type": "heatmapgl"
           }
          ],
          "histogram": [
           {
            "marker": {
             "pattern": {
              "fillmode": "overlay",
              "size": 10,
              "solidity": 0.2
             }
            },
            "type": "histogram"
           }
          ],
          "histogram2d": [
           {
            "colorbar": {
             "outlinewidth": 0,
             "ticks": ""
            },
            "colorscale": [
             [
              0,
              "#0d0887"
             ],
             [
              0.1111111111111111,
              "#46039f"
             ],
             [
              0.2222222222222222,
              "#7201a8"
             ],
             [
              0.3333333333333333,
              "#9c179e"
             ],
             [
              0.4444444444444444,
              "#bd3786"
             ],
             [
              0.5555555555555556,
              "#d8576b"
             ],
             [
              0.6666666666666666,
              "#ed7953"
             ],
             [
              0.7777777777777778,
              "#fb9f3a"
             ],
             [
              0.8888888888888888,
              "#fdca26"
             ],
             [
              1,
              "#f0f921"
             ]
            ],
            "type": "histogram2d"
           }
          ],
          "histogram2dcontour": [
           {
            "colorbar": {
             "outlinewidth": 0,
             "ticks": ""
            },
            "colorscale": [
             [
              0,
              "#0d0887"
             ],
             [
              0.1111111111111111,
              "#46039f"
             ],
             [
              0.2222222222222222,
              "#7201a8"
             ],
             [
              0.3333333333333333,
              "#9c179e"
             ],
             [
              0.4444444444444444,
              "#bd3786"
             ],
             [
              0.5555555555555556,
              "#d8576b"
             ],
             [
              0.6666666666666666,
              "#ed7953"
             ],
             [
              0.7777777777777778,
              "#fb9f3a"
             ],
             [
              0.8888888888888888,
              "#fdca26"
             ],
             [
              1,
              "#f0f921"
             ]
            ],
            "type": "histogram2dcontour"
           }
          ],
          "mesh3d": [
           {
            "colorbar": {
             "outlinewidth": 0,
             "ticks": ""
            },
            "type": "mesh3d"
           }
          ],
          "parcoords": [
           {
            "line": {
             "colorbar": {
              "outlinewidth": 0,
              "ticks": ""
             }
            },
            "type": "parcoords"
           }
          ],
          "pie": [
           {
            "automargin": true,
            "type": "pie"
           }
          ],
          "scatter": [
           {
            "fillpattern": {
             "fillmode": "overlay",
             "size": 10,
             "solidity": 0.2
            },
            "type": "scatter"
           }
          ],
          "scatter3d": [
           {
            "line": {
             "colorbar": {
              "outlinewidth": 0,
              "ticks": ""
             }
            },
            "marker": {
             "colorbar": {
              "outlinewidth": 0,
              "ticks": ""
             }
            },
            "type": "scatter3d"
           }
          ],
          "scattercarpet": [
           {
            "marker": {
             "colorbar": {
              "outlinewidth": 0,
              "ticks": ""
             }
            },
            "type": "scattercarpet"
           }
          ],
          "scattergeo": [
           {
            "marker": {
             "colorbar": {
              "outlinewidth": 0,
              "ticks": ""
             }
            },
            "type": "scattergeo"
           }
          ],
          "scattergl": [
           {
            "marker": {
             "colorbar": {
              "outlinewidth": 0,
              "ticks": ""
             }
            },
            "type": "scattergl"
           }
          ],
          "scattermapbox": [
           {
            "marker": {
             "colorbar": {
              "outlinewidth": 0,
              "ticks": ""
             }
            },
            "type": "scattermapbox"
           }
          ],
          "scatterpolar": [
           {
            "marker": {
             "colorbar": {
              "outlinewidth": 0,
              "ticks": ""
             }
            },
            "type": "scatterpolar"
           }
          ],
          "scatterpolargl": [
           {
            "marker": {
             "colorbar": {
              "outlinewidth": 0,
              "ticks": ""
             }
            },
            "type": "scatterpolargl"
           }
          ],
          "scatterternary": [
           {
            "marker": {
             "colorbar": {
              "outlinewidth": 0,
              "ticks": ""
             }
            },
            "type": "scatterternary"
           }
          ],
          "surface": [
           {
            "colorbar": {
             "outlinewidth": 0,
             "ticks": ""
            },
            "colorscale": [
             [
              0,
              "#0d0887"
             ],
             [
              0.1111111111111111,
              "#46039f"
             ],
             [
              0.2222222222222222,
              "#7201a8"
             ],
             [
              0.3333333333333333,
              "#9c179e"
             ],
             [
              0.4444444444444444,
              "#bd3786"
             ],
             [
              0.5555555555555556,
              "#d8576b"
             ],
             [
              0.6666666666666666,
              "#ed7953"
             ],
             [
              0.7777777777777778,
              "#fb9f3a"
             ],
             [
              0.8888888888888888,
              "#fdca26"
             ],
             [
              1,
              "#f0f921"
             ]
            ],
            "type": "surface"
           }
          ],
          "table": [
           {
            "cells": {
             "fill": {
              "color": "#EBF0F8"
             },
             "line": {
              "color": "white"
             }
            },
            "header": {
             "fill": {
              "color": "#C8D4E3"
             },
             "line": {
              "color": "white"
             }
            },
            "type": "table"
           }
          ]
         },
         "layout": {
          "annotationdefaults": {
           "arrowcolor": "#2a3f5f",
           "arrowhead": 0,
           "arrowwidth": 1
          },
          "autotypenumbers": "strict",
          "coloraxis": {
           "colorbar": {
            "outlinewidth": 0,
            "ticks": ""
           }
          },
          "colorscale": {
           "diverging": [
            [
             0,
             "#8e0152"
            ],
            [
             0.1,
             "#c51b7d"
            ],
            [
             0.2,
             "#de77ae"
            ],
            [
             0.3,
             "#f1b6da"
            ],
            [
             0.4,
             "#fde0ef"
            ],
            [
             0.5,
             "#f7f7f7"
            ],
            [
             0.6,
             "#e6f5d0"
            ],
            [
             0.7,
             "#b8e186"
            ],
            [
             0.8,
             "#7fbc41"
            ],
            [
             0.9,
             "#4d9221"
            ],
            [
             1,
             "#276419"
            ]
           ],
           "sequential": [
            [
             0,
             "#0d0887"
            ],
            [
             0.1111111111111111,
             "#46039f"
            ],
            [
             0.2222222222222222,
             "#7201a8"
            ],
            [
             0.3333333333333333,
             "#9c179e"
            ],
            [
             0.4444444444444444,
             "#bd3786"
            ],
            [
             0.5555555555555556,
             "#d8576b"
            ],
            [
             0.6666666666666666,
             "#ed7953"
            ],
            [
             0.7777777777777778,
             "#fb9f3a"
            ],
            [
             0.8888888888888888,
             "#fdca26"
            ],
            [
             1,
             "#f0f921"
            ]
           ],
           "sequentialminus": [
            [
             0,
             "#0d0887"
            ],
            [
             0.1111111111111111,
             "#46039f"
            ],
            [
             0.2222222222222222,
             "#7201a8"
            ],
            [
             0.3333333333333333,
             "#9c179e"
            ],
            [
             0.4444444444444444,
             "#bd3786"
            ],
            [
             0.5555555555555556,
             "#d8576b"
            ],
            [
             0.6666666666666666,
             "#ed7953"
            ],
            [
             0.7777777777777778,
             "#fb9f3a"
            ],
            [
             0.8888888888888888,
             "#fdca26"
            ],
            [
             1,
             "#f0f921"
            ]
           ]
          },
          "colorway": [
           "#636efa",
           "#EF553B",
           "#00cc96",
           "#ab63fa",
           "#FFA15A",
           "#19d3f3",
           "#FF6692",
           "#B6E880",
           "#FF97FF",
           "#FECB52"
          ],
          "font": {
           "color": "#2a3f5f"
          },
          "geo": {
           "bgcolor": "white",
           "lakecolor": "white",
           "landcolor": "#E5ECF6",
           "showlakes": true,
           "showland": true,
           "subunitcolor": "white"
          },
          "hoverlabel": {
           "align": "left"
          },
          "hovermode": "closest",
          "mapbox": {
           "style": "light"
          },
          "paper_bgcolor": "white",
          "plot_bgcolor": "#E5ECF6",
          "polar": {
           "angularaxis": {
            "gridcolor": "white",
            "linecolor": "white",
            "ticks": ""
           },
           "bgcolor": "#E5ECF6",
           "radialaxis": {
            "gridcolor": "white",
            "linecolor": "white",
            "ticks": ""
           }
          },
          "scene": {
           "xaxis": {
            "backgroundcolor": "#E5ECF6",
            "gridcolor": "white",
            "gridwidth": 2,
            "linecolor": "white",
            "showbackground": true,
            "ticks": "",
            "zerolinecolor": "white"
           },
           "yaxis": {
            "backgroundcolor": "#E5ECF6",
            "gridcolor": "white",
            "gridwidth": 2,
            "linecolor": "white",
            "showbackground": true,
            "ticks": "",
            "zerolinecolor": "white"
           },
           "zaxis": {
            "backgroundcolor": "#E5ECF6",
            "gridcolor": "white",
            "gridwidth": 2,
            "linecolor": "white",
            "showbackground": true,
            "ticks": "",
            "zerolinecolor": "white"
           }
          },
          "shapedefaults": {
           "line": {
            "color": "#2a3f5f"
           }
          },
          "ternary": {
           "aaxis": {
            "gridcolor": "white",
            "linecolor": "white",
            "ticks": ""
           },
           "baxis": {
            "gridcolor": "white",
            "linecolor": "white",
            "ticks": ""
           },
           "bgcolor": "#E5ECF6",
           "caxis": {
            "gridcolor": "white",
            "linecolor": "white",
            "ticks": ""
           }
          },
          "title": {
           "x": 0.05
          },
          "xaxis": {
           "automargin": true,
           "gridcolor": "white",
           "linecolor": "white",
           "ticks": "",
           "title": {
            "standoff": 15
           },
           "zerolinecolor": "white",
           "zerolinewidth": 2
          },
          "yaxis": {
           "automargin": true,
           "gridcolor": "white",
           "linecolor": "white",
           "ticks": "",
           "title": {
            "standoff": 15
           },
           "zerolinecolor": "white",
           "zerolinewidth": 2
          }
         }
        },
        "title": {
         "text": "Изменение наблюдаемых метрик при увеличении количества ячеек n_cells"
        },
        "xaxis": {
         "title": {
          "text": "Количество ячеек n_cells"
         }
        },
        "yaxis": {
         "title": {
          "text": "Значение 100-accuracy@5 и index_search_time"
         }
        }
       }
      }
     },
     "metadata": {},
     "output_type": "display_data"
    }
   ],
   "source": [
    "faiss_res = {\n",
    "    'n_cells':           [20, 50, 55, 60, 80, 110],\n",
    "    '100-accuracy@5':    [38.9, 33.7, 33.3, 32.9, 32, 31],\n",
    "    'index_search_time': [0.18, 0.3, 0.32, 0.35, 0.43, 0.55]\n",
    "}\n",
    "faiss_res = pd.DataFrame(faiss_res)\n",
    "\n",
    "mms = MinMaxScaler()\n",
    "faiss_res_mms = pd.DataFrame(mms.fit_transform(faiss_res), columns=faiss_res.columns)\n",
    "\n",
    "fig = go.Figure()\n",
    "fig.add_trace(go.Scatter(x=faiss_res.n_cells, y=faiss_res_mms['100-accuracy@5'], mode='lines', name='100-accuracy@5'))\n",
    "fig.add_trace(go.Scatter(x=faiss_res.n_cells, y=faiss_res_mms['index_search_time'], mode='lines', name='index_search_time'))\n",
    "fig.update_layout(\n",
    "    xaxis_title='Количество ячеек n_cells', \n",
    "    yaxis_title='Значение 100-accuracy@5 и index_search_time', \n",
    "    title=f'Изменение наблюдаемых метрик при увеличении количества ячеек n_cells')\n",
    "fig.show()"
   ]
  },
  {
   "cell_type": "markdown",
   "metadata": {},
   "source": [
    "Наиболее оптимальное количество n_cells будет находится в районе 50-60 шт, при этом время поиска индексов составит 0.3 мин, значение целевой метрики 66.7%. Annoy предоставляет приемлемое значение целевой метрики при хорошей скорости работы алгоритма и небольшом потреблении ресурсов, при этом основная доля времени уходит на построение списка индексов, а не на их поиск."
   ]
  },
  {
   "cell_type": "markdown",
   "metadata": {},
   "source": [
    "### Поиск ближайших соседей: **HNSW**"
   ]
  },
  {
   "cell_type": "code",
   "execution_count": 18,
   "metadata": {},
   "outputs": [
    {
     "name": "stdout",
     "output_type": "stream",
     "text": [
      "Trial 4 finished with value: 70.56 and parameters: { M: 90, ef_construction: 248 }. Duration_of_operation=0.1\n"
     ]
    }
   ],
   "source": [
    "# Подбор оптимальных гиперпараметров Оптюной для получения индексов HNSW\n",
    "TUNE_HYPERPARAMETERS = False\n",
    "\n",
    "if TUNE_HYPERPARAMETERS == True:\n",
    "    def objective(trial: optuna.Trial):\n",
    "        M = trial.suggest_int('M', 16, 512, step=4)\n",
    "        ef_construction = trial.suggest_int('ef_construction', 20, 300, step=5)\n",
    "\n",
    "        idx_hnsw = hnswlib.Index(space='cosine', dim=df_base.shape[1])\n",
    "        idx_hnsw.init_index(max_elements=df_base.shape[0], ef_construction=ef_construction, M=M)\n",
    "        idx_hnsw.add_items(np.ascontiguousarray(df_base.values))\n",
    "        idx_hnsw.set_ef(50)\n",
    "        \n",
    "        start = time.time()\n",
    "        labels, distances = idx_hnsw.knn_query(X, k=5)\n",
    "        acc = sum(int(tar in [base_index[x] for x in el]) for tar, el in zip(Y, labels))\n",
    "        \n",
    "        trial.set_user_attr('duration_of_operation', np.round((time.time() - start) / 60, 2))\n",
    "\n",
    "        if np.round((time.time() - start) / 60, 2) > 0.5:\n",
    "             return 0\n",
    "        else:\n",
    "             return 100 * acc / len(labels)\n",
    "\n",
    "    def custom_callback(study: optuna.Study, trial: optuna.Trial):\n",
    "        trial.user_attrs['duration_of_operation']\n",
    "        score = trial.user_attrs['duration_of_operation']\n",
    "        print(f'Trial {trial.number}: Duration_of_operation={score}')\n",
    "\n",
    "    study = optuna.create_study(#study_name='HNSW', \n",
    "                                direction='maximize', \n",
    "                                sampler=TPESampler(seed=RANDOM_STATE),\n",
    "                                #storage='sqlite:///data/my_study_HNSW.db',\n",
    "                                #load_if_exists=True\n",
    "                                )\n",
    "    study.optimize(objective, n_trials=1, timeout=None, n_jobs=1, callbacks=[custom_callback])\n",
    "\n",
    "else:\n",
    "    print('Trial 4 finished with value: 70.56 and parameters: { M: 90, ef_construction: 248 }. Duration_of_operation=0.1')"
   ]
  },
  {
   "cell_type": "code",
   "execution_count": 19,
   "metadata": {},
   "outputs": [
    {
     "name": "stdout",
     "output_type": "stream",
     "text": [
      "Время создания индексов: 9.51 мин\n",
      "Время поиска: 0.49 мин\n",
      "Значение целевой метрики: 71.36 %\n"
     ]
    }
   ],
   "source": [
    "# Подбор оптимальных гиперпараметров для получения индексов HNSW\n",
    "TUNE_INDEX = False\n",
    "\n",
    "if TUNE_INDEX == True:\n",
    "    dims = df_base.shape[1]\n",
    "    space = 'cosine'\n",
    "    ef_construction = 248\n",
    "    m = 90\n",
    "    optimizer = 600\n",
    "\n",
    "    start_time = time.time() # Считаем время создания индексов\n",
    "    idx_hnsw = hnswlib.Index(space=space, dim=dims)\n",
    "    idx_hnsw.init_index(max_elements=df_base.shape[0], ef_construction=ef_construction, M=m)\n",
    "    idx_hnsw.add_items(np.ascontiguousarray(df_base.values)) # Добавление векторов в индекс\n",
    "    idx_hnsw.set_ef(optimizer)\n",
    "    print(f'Время создания индексов: {np.round((time.time() - start_time) / 60, 2)} мин')\n",
    "\n",
    "    #idx_hnsw.save_index('idx_hnsw.bin') # Сохраняем индекс в файл\n",
    "    #idx_hnsw.load_index('idx_hnsw.bin') # Загружаем индекс из файла\n",
    "\n",
    "    start = time.time() # Считаем время поиска индексов\n",
    "    labels, distances = idx_hnsw.knn_query(X, k=5)\n",
    "    print('Время поиска:', np.round((time.time() - start) / 60, 2), 'мин')\n",
    "\n",
    "    acc = sum(int(tar in [base_index[x] for x in el]) for tar, el in zip(Y, labels))\n",
    "    print(f'Значение целевой метрики: {np.round(100 * acc / len(labels), 2)} %')\n",
    "\n",
    "else:\n",
    "    print('Время создания индексов: 9.51 мин\\nВремя поиска: 0.49 мин\\nЗначение целевой метрики: 71.36 %')"
   ]
  },
  {
   "cell_type": "markdown",
   "metadata": {},
   "source": [
    "Очень мощный алгоритм, дающий очень высокую скорость поиска индексов и высокое качество поиска, при этом имеет высокие требования к оперативной памяти. Поскольку для данной задачи проблематика использования оперативной памяти была определена как незначительная, был выбрана именно эта библиотека. Количество используемой памяти и, следовательно, размер готового списка индексов напрямую зависит от количества связей (параметр 'm') но сильно в меньшей степени от слоёв (ef_construction), при этом количество слоем повышает время поиска индекса и не так хорошо улучшает точность модели, по сравнению с количеством связей. В связи с этим было экспериментально выбрано m=90, и ef_construction = 248 дающей отличный показатель точности (70.56%), отличную скорость поиска (0.1 мин) и при этом модель щадяще используем память и размер сформированных индексов менее 3Gb. Поскольку скорость поиска излишне высокая, можно поднять параметр оптимизации поиска (optimizer=600), при этом скорость поиска вырастет в 4.9 раз до 0.49 мин, а точность на 1,12% до 71.36%, достоинство данного параметра состоит в том, что его можно изменять в зависимости от нагрузка на сервис, без изменения сгенерированной модели. Скорость поиска 100К индексов (Y) зависит линейно от значения параметра optimizer (X) приблизительно по уравнению: Y = 0.0008 * X + 0.05."
   ]
  },
  {
   "cell_type": "markdown",
   "metadata": {},
   "source": [
    "### Вывод\n",
    "- Библиотека FAISS (Facebook AI Similarity Search) показывает наиболее приемлемые значением в диапазоне 15-20, дающее более-менее быстрый поиск по индексу. Наиболее подходящим индексным методом является IndexIVFPQ, который даёт небольшое снижение показателя целевой метрики, но в разы повышает скорость поиска индексов. Он эффективно решает проблему поиска ближайших соседей путем разделения пространства на разделы и квантизации данных в этих разделах с использованием кодовых книг, в нашем конкретном случае равное 8.\n",
    "- Annoy (Approximate Nearest Neighbors Oh Yeah) показывает наиболее оптимальные результаты при количестве n_cells районе 50-60 шт, при этом время поиска индексов составит 0.3 мин, значение целевой метрики 66.7%. Annoy предоставляет приемлемое значение целевой метрики при хорошей скорости работы алгоритма и небольшом потреблении ресурсов, при этом основная доля времени уходит на построение списка индексов, а не на их поиск.\n",
    "- HNSW (Hierarchical Navigable Small World) oчень мощный алгоритм, дающий очень высокую скорость поиска индексов и высокое качество поиска, при этом имеет высокие требования к оперативной памяти. Поскольку для данной задачи проблематика использования оперативной памяти была определена как незначительная, был выбрана именно эта библиотека. Количество используемой памяти и, следовательно, размер готового списка индексов напрямую зависит от количества связей (параметр 'm') но сильно в меньшей степени от слоёв (ef_construction), при этом количество слоем повышает время поиска индекса и не так хорошо улучшает точность модели, по сравнению с количеством связей. В связи с этим было экспериментально выбрано m = 90, и ef_construction = 248 дающей отличный показатель точности (70.56%), отличную скорость поиска (0.1 мин) и при этом модель щадяще используем память и размер сформированных индексов менее 3Gb. Поскольку скорость поиска излишне высокая, можно поднять параметр оптимизации поиска (optimizer=600), при этом скорость поиска вырастет в 4.9 раз до 0.49 мин, а точность на 1,12% до 71.36%, достоинство данного параметра состоит в том, что его можно изменять в зависимости от нагрузка на сервис, без изменения сгенерированной модели. Скорость поиска 100К индексов (Y) зависит линейно от значения параметра optimizer (X) приблизительно по уравнению: Y = 0.0008 * X + 0.05."
   ]
  },
  {
   "cell_type": "markdown",
   "metadata": {},
   "source": [
    "## Оптимизация предсказаний выбранной модели\n",
    "\n",
    "Наиболее оптимальной библиотекой для решения поставленой задачи выбрана HNSW с параметрами { M: 90, ef_construction: 248, optimizer: 600}"
   ]
  },
  {
   "cell_type": "code",
   "execution_count": 20,
   "metadata": {},
   "outputs": [
    {
     "name": "stdout",
     "output_type": "stream",
     "text": [
      "Значение целевой метрики: 71.38 %\n"
     ]
    }
   ],
   "source": [
    "# Построим индексы модели с предсказанными векторами\n",
    "idx_hnsw = hnswlib.Index(space='cosine', dim=df_base.shape[1])\n",
    "idx_hnsw.load_index('idx_hnsw.bin') # Загружаем индекс из файла\n",
    "idx_hnsw.set_ef(600)\n",
    "\n",
    "labels, distances = idx_hnsw.knn_query(X, k=200)\n",
    "\n",
    "# Считаем метрику для первых 5 значений\n",
    "acc = sum(int(tar in [base_index[x] for x in el[:5]]) for tar, el in zip(Y, labels))\n",
    "print(f'Значение целевой метрики: {np.round(100 * acc / len(labels), 2)} %')"
   ]
  },
  {
   "cell_type": "markdown",
   "metadata": {},
   "source": [
    "- Значение целевой метрики для 5 значений: 71.38 %\n",
    "- Значение целевой метрики для 10 значений: 74.20 %\n",
    "- Значение целевой метрики ля 200 значений: 82.60 %\n",
    "\n",
    "Доля правильных ответов при увеличении количества рассматриваемых наиболее вероятных индексов, уменьшается экспоненциально, и нет большого смысла рассматривать сильно большую выборку, это не даст большого прироста точности, при этом сильно увеличит время поиска индексов.\n",
    "\n",
    "Подберём модель бинарной классификации и разделим исследуемые данные на те, которые отметчились и нет."
   ]
  },
  {
   "cell_type": "code",
   "execution_count": 21,
   "metadata": {},
   "outputs": [],
   "source": [
    "# Подбор оптимальной модели классификации\n",
    "TUNE_MODELS = False\n",
    "\n",
    "mlr = LogisticRegression(random_state=RANDOM_STATE)\n",
    "mdtc = DecisionTreeClassifier(random_state=RANDOM_STATE)\n",
    "mrfc = RandomForestClassifier(random_state=RANDOM_STATE)\n",
    "mcbc = CatBoostClassifier(random_state=RANDOM_STATE, verbose = False)\n",
    "mknn = KNeighborsClassifier(n_neighbors=5)\n",
    "mxgb = xgb.XGBClassifier(random_state=RANDOM_STATE, verbosity=0)\n",
    "mlgb = lgb.LGBMClassifier(objective='binary', random_state=RANDOM_STATE, verbosity=-1)\n",
    "\n",
    "Y_for_5 = np.array([int(target in [base_index[x] for x in el[:5]]) for target, el in zip(Y, labels)])\n",
    "Y_for_5 = np.ascontiguousarray(Y_for_5)\n",
    "\n",
    "if TUNE_MODELS == True:\n",
    "    for m in [mlr,mdtc,mrfc,mcbc,mknn,mxgb,mlgb]:\n",
    "        start = time.time()\n",
    "        scores = cross_val_score(m, X, Y_for_5, cv=5, scoring='recall')\n",
    "        print(f'{m}: recall: {np.mean(scores).round(2)}, time: {np.round((time.time() - start) / 60, 2)} мин')"
   ]
  },
  {
   "cell_type": "markdown",
   "metadata": {},
   "source": [
    "| Модели классификации       | recall | time, мин |\n",
    "| -------------------------- |:------:| ---------:|\n",
    "| LogisticRegression         | 0.96   | 0.01      |\n",
    "| DecisionTreeClassifier     | 0.75   | 1.11      |\n",
    "| RandomForestClassifier     | 0.98   | 9.86      |\n",
    "| CatBoostClassifier         | 0.96   | 0.92      |\n",
    "| KNeighborsClassifier       | 0.75   | 0.21      |\n",
    "| XGBClassifier              | 0.93   | 0.10      |\n",
    "| LGBMClassifier             | 0.97   | 0.08      |\n",
    "\n",
    "CatBoostClassifier - ниболее оптимальная модель"
   ]
  },
  {
   "cell_type": "code",
   "execution_count": 22,
   "metadata": {},
   "outputs": [],
   "source": [
    "# Подбор оптимальных гиперпараметров бинарной классификации\n",
    "TUNE_HYPERPARAMETERS = False\n",
    "\n",
    "if TUNE_HYPERPARAMETERS == True:\n",
    "    def objective(trial: optuna.Trial):\n",
    "        params = {\n",
    "            'iterations': trial.suggest_int('iterations', 1000, 5000, step=50),\n",
    "            'learning_rate': trial.suggest_float('learning_rate', 0.001, 1, step=0.001),\n",
    "            'depth': trial.suggest_int('depth', 2, 10, step=1),\n",
    "            'l2_leaf_reg': trial.suggest_float('l2_leaf_reg', 0.001, 100, log=True),\n",
    "            'bootstrap_type': trial.suggest_categorical('bootstrap_type', ['Bayesian']),\n",
    "            'bagging_temperature': trial.suggest_float('bagging_temperature', 0, 2, step=0.01),\n",
    "            'od_type': trial.suggest_categorical('od_type', ['IncToDec', 'Iter']),\n",
    "            'leaf_estimation_method': trial.suggest_categorical('leaf_estimation_method', ['Newton', 'Gradient']),\n",
    "            'grow_policy': trial.suggest_categorical('grow_policy', ['SymmetricTree']),\n",
    "            }\n",
    "        mcbc = CatBoostClassifier(**params, random_state=RANDOM_STATE, verbose=False, task_type='GPU')\n",
    "        scores = cross_val_score(mcbc, X, Y_for_5, cv=10, scoring='recall')\n",
    "\n",
    "        return scores.mean()\n",
    "\n",
    "    study = optuna.create_study(#study_name='CatBoostClassifier', \n",
    "                                direction='maximize', \n",
    "                                sampler=TPESampler(seed=RANDOM_STATE),\n",
    "                                #storage='sqlite:///my_study_CatBoostClassifier.db',\n",
    "                                #load_if_exists=True\n",
    "                                )\n",
    "    study.optimize(objective, n_trials=1, timeout=None, n_jobs=1)"
   ]
  },
  {
   "cell_type": "code",
   "execution_count": 23,
   "metadata": {},
   "outputs": [
    {
     "name": "stdout",
     "output_type": "stream",
     "text": [
      "Процент правильно предсказанных положительных ответов 71.36 %\n",
      "Значение recall для положительного класса: 0.9997198133957216\n"
     ]
    }
   ],
   "source": [
    "mcbc = CatBoostClassifier(\n",
    "    random_state=RANDOM_STATE,\n",
    "    iterations=4600,\n",
    "    learning_rate=0.1041,\n",
    "    depth=12,\n",
    "    l2_leaf_reg=0.0016486815857467566,\n",
    "    bootstrap_type='Bayesian',\n",
    "    bagging_temperature=0.06,\n",
    "    od_type='IncToDec',\n",
    "    leaf_estimation_method='Newton',\n",
    "    grow_policy='SymmetricTree',\n",
    "    verbose=False, \n",
    "    task_type='GPU'\n",
    "    )\n",
    "#mcbc.fit(X, Y_for_5)\n",
    "#mcbc.save_model('mcbc_model.cbm')\n",
    "mcbc.load_model('mcbc_model.cbm')\n",
    "\n",
    "pred_pos = mcbc.predict(X)\n",
    "print(f'Процент правильно предсказанных положительных ответов {np.round(sum((Y_for_5 == 1)&(pred_pos == 1)) * 100 / len(Y_for_5),2)} %')\n",
    "print(f'Значение recall для положительного класса: {recall_score(Y_for_5, pred_pos)}')"
   ]
  },
  {
   "cell_type": "markdown",
   "metadata": {},
   "source": [
    "Подобрав модель бинарной классификации, мы смогли хорошо разделить данные которые отметчились, согласна целевой метрики, доля которых составляет 71,36%. Таким образом мы можем с высокой долей вероятности определить те данные, для которых мы найдём положительный исход в первых пяти предсказанных вариантах продукта.\n",
    "\n",
    "Если модель машинного обучения классифицирует объекты всегда согласна значениям переданных признаков, то эксперт, выполневший разметку, может руководствоваться и иными свойствами, и признаками, данных о которых мы лишены. Исходя из предположения, что это обстоятельство может так или иначе сместить положение объекта в иерархии предложенных расстояний, постоим регрессионную модель, которая б определяла наиболее вероятный индекс положения прогнозируемого объекта (или смещения)."
   ]
  },
  {
   "cell_type": "code",
   "execution_count": 24,
   "metadata": {},
   "outputs": [],
   "source": [
    "# Считаем индекс положительного таргента в списке метчинга\n",
    "order_list = []\n",
    "for tar, el in zip(Y, labels):\n",
    "    if (tar in [base_index[x] for x in el]):\n",
    "        order_list.append([base_index[x] for x in el].index(tar))\n",
    "    else:\n",
    "        order_list.append(None)\n",
    "\n",
    "df_train['order_list'] = order_list\n",
    "X_ord = np.array(df_train[(df_train['order_list'] > 4)&(~df_train['order_list'].isna())].drop(['Target','order_list'], axis=1))\n",
    "Y_ord = np.array(df_train[(df_train['order_list'] > 4)&(~df_train['order_list'].isna())]['order_list'])\n",
    "\n",
    "X_ord = np.ascontiguousarray(X_ord)\n",
    "Y_ord = np.ascontiguousarray(Y_ord)"
   ]
  },
  {
   "cell_type": "code",
   "execution_count": 25,
   "metadata": {},
   "outputs": [],
   "source": [
    "# Подбор оптимальной модели регрессии\n",
    "TUNE_MODELS = False\n",
    "\n",
    "mlr = LinearRegression()\n",
    "ml = Lasso(random_state=RANDOM_STATE, precompute=True)\n",
    "mr = Ridge(random_state=RANDOM_STATE)\n",
    "men = ElasticNet(random_state=RANDOM_STATE)\n",
    "mdtr = DecisionTreeRegressor(random_state=RANDOM_STATE)\n",
    "mcbr = CatBoostRegressor(verbose=False, random_state=RANDOM_STATE)\n",
    "mlgb = lgb.LGBMRegressor(random_state=RANDOM_STATE, verbosity=-1)\n",
    "mxgb = xgb.XGBRegressor(random_state=RANDOM_STATE)\n",
    "mknr = KNeighborsRegressor()\n",
    "mgbr = GradientBoostingRegressor(random_state=RANDOM_STATE)\n",
    "\n",
    "if TUNE_MODELS == True:\n",
    "    for m in [mlr,ml,mr,men,mdtr,mcbr,mlgb,mxgb,mknr,mgbr]:\n",
    "        start = time.time()\n",
    "        scores = cross_val_score(m, X_ord, Y_ord, cv=5, scoring='r2')\n",
    "        print(f'{m}: r2: {np.mean(scores).round(3)}, time: {np.round((time.time() - start) / 60, 1)} мин')"
   ]
  },
  {
   "cell_type": "markdown",
   "metadata": {},
   "source": [
    "| Модели классификации      | r2     | time, мин |\n",
    "| ------------------------- |:------:| ---------:|\n",
    "| LinearRegression          |  0.008 | >0.05     |\n",
    "| Lasso                     |  0.004 | >0.05     |\n",
    "| Ridge                     |  0.008 | >0.05     |\n",
    "| ElasticNet                |  0.007 | >0.05     |\n",
    "| DecisionTreeRegressor     | -0.981 | 0.3       |\n",
    "| LGBMRegressor             |  0.022 | >0.05     |\n",
    "| XGBRegressor              | -0.086 | 0.1       |\n",
    "| KNeighborsRegressor       | -0.162 | >0.05     |\n",
    "| GradientBoostingRegressor |  0.01  | 4.3       |\n",
    "| CatBoostRegressor         |  0.03  | 0.7       |\n",
    "\n",
    "CatBoostRegressor - ниболее оптимальная модель"
   ]
  },
  {
   "cell_type": "code",
   "execution_count": 26,
   "metadata": {},
   "outputs": [],
   "source": [
    "# Подбор оптимальных гиперпараметров\n",
    "TUNE_HYPERPARAMETERS = False\n",
    "\n",
    "if TUNE_HYPERPARAMETERS == True:\n",
    "    def objective(trial: optuna.Trial):\n",
    "        params = {\n",
    "            'iterations': trial.suggest_int('iterations', 500, 5000, step=50),\n",
    "            'learning_rate': trial.suggest_float('learning_rate', 0.01, 0.5, step=0.01),\n",
    "            'depth': trial.suggest_int('depth', 2, 10),\n",
    "            'l2_leaf_reg': trial.suggest_float('l2_leaf_reg', 0.01, 100.0, log=True),\n",
    "            'bagging_temperature': trial.suggest_float('bagging_temperature', 0, 5, step=0.01),\n",
    "            }\n",
    "        mcbr = CatBoostRegressor(**params, random_state=RANDOM_STATE, verbose=False, task_type='GPU')\n",
    "        scores = cross_val_score(estimator=mcbr, X=X_ord, y=Y_ord, scoring=make_scorer(mean_absolute_error), cv=5)   \n",
    "\n",
    "        mcbr.fit(X_ord, Y_ord)\n",
    "        \n",
    "        ass = []\n",
    "        for pos, el, tar, x_val in zip(pred_pos, labels, Y, X):\n",
    "            if pos == 1:\n",
    "                pass\n",
    "            else:\n",
    "                ind = int(np.round(mcbr.predict(x_val),0))\n",
    "                ass.append(int(tar in [base_index[x] for x in el[ind-3:ind+2]]))\n",
    "\n",
    "        trial.set_user_attr('sum_ass', sum(ass))\n",
    "\n",
    "        return scores.mean()\n",
    "    \n",
    "    def custom_callback(study: optuna.Study, trial: optuna.Trial):\n",
    "        trial.user_attrs['sum_ass']\n",
    "        score = trial.user_attrs['sum_ass']\n",
    "        print(f'Trial {trial.number}: sum_ass={score}')\n",
    "\n",
    "    study = optuna.create_study(#study_name='CatBoostRegressor', \n",
    "                                direction='minimize', \n",
    "                                sampler=TPESampler(seed=RANDOM_STATE),\n",
    "                                #storage='sqlite:///data/my_study_CatBoostRegressor.db',\n",
    "                                #load_if_exists=True\n",
    "                                )\n",
    "    study.optimize(objective, n_trials=1, timeout=None, n_jobs=1, callbacks=[custom_callback])"
   ]
  },
  {
   "cell_type": "markdown",
   "metadata": {},
   "source": [
    "- `Trial 11 finished with value: 37.10854400599686 and parameters: {'iterations': 2800, 'learning_rate': 0.01, 'depth': 12, 'l2_leaf_reg': 65.03663536941748, 'bagging_temperature': 2.94}. sum_ass=390`\n",
    "- `Trial 37 finished with value: 37.229157466851106 and parameters: {'iterations': 8900, 'learning_rate': 0.47, 'depth': 12, 'l2_leaf_reg': 0.15222584079884435, 'bagging_temperature': 4.05}. sum_ass=3761`"
   ]
  },
  {
   "cell_type": "code",
   "execution_count": 27,
   "metadata": {},
   "outputs": [
    {
     "name": "stdout",
     "output_type": "stream",
     "text": [
      "Значение mae: 33.12703212598493\n"
     ]
    }
   ],
   "source": [
    "# Обучение модели\n",
    "mcbr = CatBoostRegressor(\n",
    "    iterations=2800,\n",
    "    learning_rate=0.01,\n",
    "    depth=12,\n",
    "    l2_leaf_reg=65.03663536941748,\n",
    "    bagging_temperature=2.94,\n",
    "    random_state=RANDOM_STATE,\n",
    "    verbose=False, \n",
    "    task_type='GPU'\n",
    "    )\n",
    "#mcbr.fit(X_ord, Y_ord)\n",
    "#mcbr.save_model('mcbr_model.cbm')\n",
    "mcbr.load_model('mcbr_model.cbm')\n",
    "\n",
    "pred_ord = mcbr.predict(X_ord)\n",
    "print(f'Значение mae: {mean_absolute_error(Y_ord, pred_ord)}')"
   ]
  },
  {
   "cell_type": "code",
   "execution_count": 28,
   "metadata": {},
   "outputs": [
    {
     "name": "stdout",
     "output_type": "stream",
     "text": [
      "Время предсказание: 1.18 мин\n",
      "Значение целевой метрики: 71.7 %\n"
     ]
    }
   ],
   "source": [
    "# Предсказание с учётом регрессионной модели\n",
    "start = time.time() # Считаем время предсказания\n",
    "mcbc_val = mcbc.predict(X)\n",
    "labels, distances = idx_hnsw.knn_query(X, k=200)\n",
    "\n",
    "aсс = []\n",
    "for pos, el, tar, x_val in zip(mcbc_val, labels, Y, X):\n",
    "    if pos == 1:\n",
    "        aсс.append(int(tar in [base_index[x] for x in el[:5]]))\n",
    "    else:\n",
    "        ind = int(np.round(mcbr.predict(x_val),0))\n",
    "        aсс.append(int(tar in [base_index[x] for x in el[ind-3:ind+2]]))\n",
    "print(f'Время предсказание: {np.round((time.time() - start) / 60, 2)} мин')\n",
    "print(f'Значение целевой метрики: {np.round(100 * sum(aсс) / len(labels), 2)} %')"
   ]
  },
  {
   "cell_type": "code",
   "execution_count": 29,
   "metadata": {},
   "outputs": [
    {
     "name": "stdout",
     "output_type": "stream",
     "text": [
      "Время предсказание: 0.6 мин\n",
      "Значение целевой метрики: 74.18 %\n"
     ]
    }
   ],
   "source": [
    "# Предсказание с учётом константы\n",
    "start = time.time() # Считаем время предсказания\n",
    "mcbc_val = mcbc.predict(X)\n",
    "labels, distances = idx_hnsw.knn_query(X, k=200)\n",
    "\n",
    "aсс = []\n",
    "for pos, el, tar, x_val in zip(mcbc_val, labels, Y, X):\n",
    "    if pos == 1:\n",
    "        aсс.append(int(tar in [base_index[x] for x in el[:5]]))\n",
    "    else:\n",
    "        ind = 8\n",
    "        aсс.append(int(tar in [base_index[x] for x in el[ind-3:ind+2]]))\n",
    "print(f'Время предсказание: {np.round((time.time() - start) / 60, 2)} мин')\n",
    "print(f'Значение целевой метрики: {np.round(100 * sum(aсс) / len(labels), 2)} %')"
   ]
  },
  {
   "cell_type": "markdown",
   "metadata": {},
   "source": [
    "Полученное значение mae на кросвалидации значительно отличается от mae модели самой на себя, что свидетельствует о переобучении и малой предсказательной пригодности, созданной ML. Вероятно нужно провести дополнительную обработку признакового пространства и поэкспериментировать с различными синтетическими признаками для поиска зависимостей и улучшения предсказательной силы. Использование значений с высокими величинами sum_ass приводит к значительно большей переобучености. Можно отметить, что чем меньшее значение mae мы получаем, тем меньше мы обнаруживаем положительных совпадений accuracy@5.\n",
    "\n",
    "Значение целевой метрики при использовании регрессионной модели (71.7 %) значительно отличаются от использования константы (случая, когда мы берём 5 значений с 6 по 10) (74.18 %), поэтому за неимением возможности провести дополнительные изыскания, оставим второй вариант."
   ]
  },
  {
   "cell_type": "markdown",
   "metadata": {},
   "source": [
    "## Тестирование модели"
   ]
  },
  {
   "cell_type": "code",
   "execution_count": 30,
   "metadata": {},
   "outputs": [
    {
     "name": "stdout",
     "output_type": "stream",
     "text": [
      "Время предсказание: 0.59 мин\n",
      "Значение целевой метрики: 71.16 %\n"
     ]
    }
   ],
   "source": [
    "# Предсказания ранжирующей модели\n",
    "start = time.time() # Считаем время предсказания\n",
    "labels_test, distances_test = idx_hnsw.knn_query(X_test, k=5)\n",
    "\n",
    "# Считаем метрику для первых 5 значений\n",
    "acc = sum(int(target in [base_index[x] for x in el]) for target, el in zip(Y_test, labels_test))\n",
    "print(f'Время предсказание: {np.round((time.time() - start) / 60, 2)} мин')\n",
    "print(f'Значение целевой метрики: {np.round(100 * acc / len(labels_test), 2)} %')"
   ]
  },
  {
   "cell_type": "code",
   "execution_count": 31,
   "metadata": {},
   "outputs": [
    {
     "name": "stdout",
     "output_type": "stream",
     "text": [
      "Время предсказание: 0.75 мин\n",
      "Значение целевой метрики: 68.49 %\n"
     ]
    }
   ],
   "source": [
    "# Предсказания ранжирующей модели улучшенной ML\n",
    "start = time.time() # Считаем время предсказания\n",
    "mcbc_val = mcbc.predict(X_test)\n",
    "labels_test, distances_test = idx_hnsw.knn_query(X_test, k=200)\n",
    "\n",
    "aсс = []\n",
    "for pos, el, tar, x_val in zip(mcbc_val, labels_test, Y_test, X_test):\n",
    "    if pos == 1:\n",
    "        aсс.append(int(tar in [base_index[x] for x in el[:5]]))\n",
    "    else:\n",
    "        ind = 8\n",
    "        aсс.append(int(tar in [base_index[x] for x in el[ind-3:ind+2]]))\n",
    "\n",
    "print(f'Время предсказание: {np.round((time.time() - start) / 60, 2)} мин')\n",
    "print(f'Значение целевой метрики: {np.round(100 * sum(aсс) / len(labels), 2)} %')"
   ]
  },
  {
   "cell_type": "markdown",
   "metadata": {},
   "source": [
    "Результаты тестирования показывают, что модель HNSW показывает отличные результаты, высокую скорость работы как на тестовой так и на тренировочной выборках, и практически идентичную целевую метрику (71,76% и 71.16%), результаты применения ML для улучшения показателей метчинга показали неоднозначные результаты, большое различие в значениях целевых метрик (74,18% и 68,49%) может свидетельствовать о переобучености модели, вероятно увеличение количества фолдов на кросвалидации до 10 и увеличение времени на оптимизацию поможет значительно улучшить результат."
   ]
  },
  {
   "cell_type": "markdown",
   "metadata": {},
   "source": [
    "## Выводы\n",
    "\n",
    "1. **Загрузка и ознакомление с данными.** Данные в основном представлены непрерывными числовыми значениями, основная их доля очевидно имеет нормальное распределение. Те данные, которые явно не характеризуются нормальным распределением, будут вносить лишний шум в результаты метчинга ('6','21','25','33','44','59','65'). Пропусков не обнаружено, сильных корреляций и зависимостей так же не выявлено.\n",
    "\n",
    "2. **Разведочный анализ данных.** Найдена пара признаков, отличия которых не значимы на уровне 0,001, из них отфильтрован признак '3', которые характеризуются распределением, в наибольшей степени отличающимся от нормального.\n",
    "\n",
    "3. **Выбор подходящих ML моделей**\n",
    "- Библиотека FAISS (Facebook AI Similarity Search) показывает наиболее приемлемые значением в диапазоне 15-20, дающее более-менее быстрый поиск по индексу. Наиболее подходящим индексным методом является IndexIVFPQ, который даёт небольшое снижение показателя целевой метрики, но в разы повышает скорость поиска индексов. Он эффективно решает проблему поиска ближайших соседей путем разделения пространства на разделы и квантизации данных в этих разделах с использованием кодовых книг, в нашем конкретном случае равное 8.\n",
    "- Annoy (Approximate Nearest Neighbors Oh Yeah) показывает наиболее оптимальные результаты при количестве n_cells районе 50-60 шт, при этом время поиска индексов составит 0.3 мин, значение целевой метрики 66.7%. Annoy предоставляет приемлемое значение целевой метрики при хорошей скорости работы алгоритма и небольшом потреблении ресурсов, при этом основная доля времени уходит на построение списка индексов, а не на их поиск.\n",
    "- HNSW (Hierarchical Navigable Small World) oчень мощный алгоритм, дающий очень высокую скорость поиска индексов и высокое качество поиска, при этом имеет высокие требования к оперативной памяти. Поскольку для данной задачи проблематика использования оперативной памяти была определена как незначительная, был выбрана именно эта библиотека. Количество используемой памяти и, следовательно, размер готового списка индексов напрямую зависит от количества связей (параметр 'm') но сильно в меньшей степени от слоёв (ef_construction), при этом количество слоем повышает время поиска индекса и не так хорошо улучшает точность модели, по сравнению с количеством связей. В связи с этим было экспериментально выбрано m = 90, и ef_construction = 248 дающей отличный показатель точности (70.48%), отличную скорость поиска (0.08 мин) и при этом модель щадяще используем память и размер сформированных индексов менее 3Gb. Поскольку скорость поиска излишне высокая, можно поднять параметр оптимизации поиска (optimizer=600), при этом скорость поиска вырастет в 4.9 раз до 0.49 мин, а точность на 1.12% до 71.36%, достоинство данного параметра состоит в том, что его можно изменять в зависимости от нагрузка на сервис, без изменения сгенерированной модели. Скорость поиска 100К индексов (Y) зависит линейно от значения параметра optimizer (X) приблизительно по уравнению: Y = 0.0008 * X + 0.05.\n",
    "\n",
    "4. **Оптимизация предсказаний выбранной модели.** Выбрана модель бинарной классификации CatBoostClassifier, которая выполняет задачу определения вероятности положительного исхода в первых пяти вариантах прогноза HNSW модели. Подобрав модель бинарной классификации, мы смогли хорошо разделить данные которые отметчились, согласна целевой метрики, доля которых составляет 71,36%. Использование модели CatBoostRegressor для прогнозирования смещения положительного предсказания для второй части данных (28,64%) не дало удовлетворительного результата. Вероятно нужно провести дополнительную обработку признакового пространства и поэкспериментировать с различными синтетическими признаками для поиска зависимостей и улучшения предсказательной силы. **Примечание:** если модель машинного обучения классифицирует объекты всегда согласна значениям переданных признаков, то эксперт, выполневший разметку, может руководствоваться и иными свойствами, и признаками, данных о которых мы лишены, что может повлиять на значительное смещение положительного прогноза.\n",
    "\n",
    "5. **Тестирование модели** Модель HNSW показывает отличные результаты, высокую скорость работы как на тестовой так и на тренировочной выборках, и практически идентичную целевую метрику (71,76% и 71.16%), результаты применения ML для улучшения показателей метчинга показали неоднозначные результаты, большое различие в значениях целевых метрик (74,18% и 68,49%) может свидетельствовать о переобучености модели, вероятно увеличение количества фолдов на кросвалидации до 10 и увеличение времени на оптимизацию поможет значительно улучшить целевую метрику."
   ]
  }
 ],
 "metadata": {
  "kernelspec": {
   "display_name": "pracricum_venv",
   "language": "python",
   "name": "python3"
  },
  "language_info": {
   "codemirror_mode": {
    "name": "ipython",
    "version": 3
   },
   "file_extension": ".py",
   "mimetype": "text/x-python",
   "name": "python",
   "nbconvert_exporter": "python",
   "pygments_lexer": "ipython3",
   "version": "3.10.11"
  },
  "orig_nbformat": 4
 },
 "nbformat": 4,
 "nbformat_minor": 2
}
