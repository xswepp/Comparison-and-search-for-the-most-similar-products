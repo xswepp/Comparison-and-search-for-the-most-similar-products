{
 "cells": [
  {
   "cell_type": "code",
   "execution_count": 3,
   "id": "1d60978e",
   "metadata": {},
   "outputs": [
    {
     "name": "stdout",
     "output_type": "stream",
     "text": [
      "{'Похожие товары': \"['633870-base', '1413040-base', '471384-base', '2061358-base', '646895-base']\"}\n"
     ]
    }
   ],
   "source": [
    "import requests\n",
    "import pandas as pd\n",
    "import numpy as np\n",
    "import time\n",
    "\n",
    "# Запрос\n",
    "df_test = pd.read_csv(\"test.csv\", index_col=0)\n",
    "application = df_test.iloc[55].to_dict() # Выбери индекс от 0 до 98\n",
    "\n",
    "# Расположение сервера\n",
    "url = \"http://127.0.0.1:8989/predict\"\n",
    "\n",
    "# Посылаем запрос\n",
    "resp = requests.post(url, json=application)\n",
    "print(resp.json())"
   ]
  },
  {
   "cell_type": "code",
   "execution_count": 4,
   "metadata": {},
   "outputs": [
    {
     "name": "stdout",
     "output_type": "stream",
     "text": [
      "Время отклика в мс:\n",
      "Медиана: 8.0\n",
      "95-й процентиль: 14.0\n",
      "Макс: 43\n"
     ]
    }
   ],
   "source": [
    "# Измерение времени отклика\n",
    "all_times = []\n",
    "for i in df_test.iloc[range(98)].to_dict(): # Выбери индекс от 0 до 98\n",
    "    t0 = time.time_ns() // 1_000_000\n",
    "    # Отправить запрос\n",
    "    resp = requests.post(url, json=application)\n",
    "    t1 = time.time_ns() // 1_000_000\n",
    "    # Время получения ответа в мс\n",
    "    time_taken = t1 - t0\n",
    "    all_times.append(time_taken)\n",
    "\n",
    "print(\"Время отклика в мс:\")\n",
    "print(\"Медиана:\", np.quantile(all_times, 0.5))\n",
    "print(\"95-й процентиль:\", np.round(np.quantile(all_times, 0.95),1))\n",
    "print(\"Макс:\", np.max(all_times))"
   ]
  },
  {
   "cell_type": "raw",
   "id": "9b309e0d",
   "metadata": {},
   "source": [
    "docker build -t default-service:v01 .\n",
    "\n",
    "docker run -it --rm -p 8989:8989 default-service:v01\n",
    "\n",
    "docker stop $(docker ps -a -q)"
   ]
  }
 ],
 "metadata": {
  "kernelspec": {
   "display_name": "Python 3 (ipykernel)",
   "language": "python",
   "name": "python3"
  },
  "language_info": {
   "codemirror_mode": {
    "name": "ipython",
    "version": 3
   },
   "file_extension": ".py",
   "mimetype": "text/x-python",
   "name": "python",
   "nbconvert_exporter": "python",
   "pygments_lexer": "ipython3",
   "version": "3.10.11"
  },
  "toc": {
   "base_numbering": 1,
   "nav_menu": {},
   "number_sections": true,
   "sideBar": true,
   "skip_h1_title": false,
   "title_cell": "Table of Contents",
   "title_sidebar": "Contents",
   "toc_cell": false,
   "toc_position": {},
   "toc_section_display": true,
   "toc_window_display": false
  }
 },
 "nbformat": 4,
 "nbformat_minor": 5
}
