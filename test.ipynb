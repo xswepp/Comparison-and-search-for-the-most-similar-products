{
 "cells": [
  {
   "cell_type": "code",
   "execution_count": 26,
   "id": "1d60978e",
   "metadata": {},
   "outputs": [
    {
     "name": "stdout",
     "output_type": "stream",
     "text": [
      "{'Похожие товары': \"['3209652-base', '2760762-base', '3839597-base', '1210658-base', '368296-base']\"}\n"
     ]
    }
   ],
   "source": [
    "import requests\n",
    "import pandas as pd\n",
    "\n",
    "# Запрос\n",
    "df_validation_res = pd.read_csv(\"./data/validation.csv\", index_col=0)\n",
    "application = df_validation_res.iloc[0].to_dict()\n",
    "\n",
    "# Расположение сервера\n",
    "url = \"http://127.0.0.1:8989/predict\"\n",
    "\n",
    "# Посылаем запрос\n",
    "resp = requests.post(url, json=application)\n",
    "\n",
    "# Печать результата\n",
    "print(resp.json())"
   ]
  },
  {
   "cell_type": "raw",
   "id": "9b309e0d",
   "metadata": {},
   "source": [
    "docker build -t default-service:v01 .\n",
    "\n",
    "docker run -it --rm -p 8989:8989 default-service:v01\n",
    "\n",
    "docker stop $(docker ps -a -q)"
   ]
  }
 ],
 "metadata": {
  "kernelspec": {
   "display_name": "Python 3 (ipykernel)",
   "language": "python",
   "name": "python3"
  },
  "language_info": {
   "codemirror_mode": {
    "name": "ipython",
    "version": 3
   },
   "file_extension": ".py",
   "mimetype": "text/x-python",
   "name": "python",
   "nbconvert_exporter": "python",
   "pygments_lexer": "ipython3",
   "version": "3.10.11"
  },
  "toc": {
   "base_numbering": 1,
   "nav_menu": {},
   "number_sections": true,
   "sideBar": true,
   "skip_h1_title": false,
   "title_cell": "Table of Contents",
   "title_sidebar": "Contents",
   "toc_cell": false,
   "toc_position": {},
   "toc_section_display": true,
   "toc_window_display": false
  }
 },
 "nbformat": 4,
 "nbformat_minor": 5
}
